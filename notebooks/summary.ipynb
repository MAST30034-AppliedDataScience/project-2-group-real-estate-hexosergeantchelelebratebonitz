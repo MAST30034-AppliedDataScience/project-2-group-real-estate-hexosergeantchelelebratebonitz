{
 "cells": [
  {
   "cell_type": "code",
   "execution_count": 2,
   "metadata": {},
   "outputs": [],
   "source": [
    "# Necessary modules\n",
    "import pandas as pd\n",
    "from IPython.display import Image"
   ]
  },
  {
   "cell_type": "markdown",
   "metadata": {},
   "source": [
    "## Target Audience\n",
    "\n",
    "Our two target audience are:\n",
    "1) **Real Estate Investors**, looking to maximise returns by targeting properties with high growth potential and affordability.\n",
    "2) **Potential Rentals**, looking to live in affordable homes.\n",
    "\n",
    "Our findings on regional affordability and growth for rental prices, income, population in Victoria support this strategy."
   ]
  },
  {
   "cell_type": "markdown",
   "metadata": {},
   "source": [
    "### 0. Data Links\n",
    "1. Postcodes Victoria, sourced from Postcodes Australia (https://postcodes-australia.com/state-postcodes/vic)\n",
    "2. Victoria Suburbs Shapefile, sourced from Data.gov.au (https://data.gov.au/data/dataset/af33dd8c-0534-4e18-9245-fc64440f742e/resource/0a9f2827-49e9-4390-9ba4-89329736b16b/download/gda2020.zip)\n",
    "3. Income and Population by SA2 Districts, sourced from Australian Bureau of Statistics ABS (https://www.abs.gov.au/methodologies/data-region-methodology/2011-23#data-downloads)\n"
   ]
  },
  {
   "cell_type": "markdown",
   "metadata": {},
   "source": [
    "# Data and Pre-processing"
   ]
  },
  {
   "cell_type": "markdown",
   "metadata": {},
   "source": [
    "### **Property dataset**\n",
    "\n",
    "Collection:\n",
    "* Extracted from Domain website using BeautifulSoup, generating URLs based on suburb names and postcodes. For each suburb, a maximum of 1000 pages of properties were scraped according to the postcodes. This totalled to 14459 links scraped, with 20 features such as price, address, nearby schools, and other property features. Note that this dataset already included nearby schools, so we did not have to compute school locations.\n",
    "\n",
    "Pre-processing:\n",
    "* Removed entries with missing prices.\n",
    "* Removed NBN details and Property Features columns as they were often empty on the website, thus we focus on relevant frequent features.\n",
    "* Removed unit numbers from address to ensure accurate location and distance computation.\n",
    "* Formatted price to floats to ensure numerical analysis.\n",
    "* Calculate coordinates of each property using Geocoder. \n",
    "* Removed entries with missing coordinates and located more than 600 km from Melbourne CBD. This eliminate properties belonging to NSW state.\n",
    "* Removed outliers using Z-scores threshold of sqrt(2 * log(N)) for a sample size > 100.\n",
    "* Calculate euclidean distance of each property to the nearest school. We assumed Euclidean distance is proportional to driving distance, differing by a consistent factor, and serves as an accurate approximation.\n",
    "\n",
    "### **Supermarket dataset**\n",
    "\n",
    "Collection:\n",
    "* Query supermarket data from Overpass API within Victoria. This totalled to 967 supermarkets with features such as supermarket name, latitude, longitude, address, and more features.\n",
    "\n",
    "Pre-processing:\n",
    "* Calculate euclidean distance of each property to the nearest supermarket. This follows the same assumption of Euclidean and Driving distance above.\n",
    "\n",
    "### **Public Transport Victoria (PTV) dataset**\n",
    "\n",
    "Collection:\n",
    "* Retrieved shapefiles from PTV Data VIC for transportation stations: train (metro and regional), bus (metro and regional), and trams.\n",
    "\n",
    "Pre-processing:\n",
    "* Calculate euclidean distance (in meters) to the nearest train, bus, and tram station from each property. This follows the same assumption of Euclidean and Driving distance above.\n",
    "\n",
    "**Thus, the final rental properties with distances to the closest PTV stations, supermarkets, and schools are shown below; 10,357 rows**\n"
   ]
  },
  {
   "cell_type": "code",
   "execution_count": 3,
   "metadata": {},
   "outputs": [
    {
     "name": "stdout",
     "output_type": "stream",
     "text": [
      "Total entries: 10357\n"
     ]
    },
    {
     "data": {
      "text/html": [
       "<div>\n",
       "<style scoped>\n",
       "    .dataframe tbody tr th:only-of-type {\n",
       "        vertical-align: middle;\n",
       "    }\n",
       "\n",
       "    .dataframe tbody tr th {\n",
       "        vertical-align: top;\n",
       "    }\n",
       "\n",
       "    .dataframe thead th {\n",
       "        text-align: right;\n",
       "    }\n",
       "</style>\n",
       "<table border=\"1\" class=\"dataframe\">\n",
       "  <thead>\n",
       "    <tr style=\"text-align: right;\">\n",
       "      <th></th>\n",
       "      <th>title</th>\n",
       "      <th>description</th>\n",
       "      <th>street_address</th>\n",
       "      <th>suburb</th>\n",
       "      <th>postcode</th>\n",
       "      <th>price</th>\n",
       "      <th>bedrooms</th>\n",
       "      <th>bathrooms</th>\n",
       "      <th>parking</th>\n",
       "      <th>primary_property_type</th>\n",
       "      <th>...</th>\n",
       "      <th>floor_plans_count</th>\n",
       "      <th>virtual_tour</th>\n",
       "      <th>nearby_schools</th>\n",
       "      <th>latitude</th>\n",
       "      <th>longitude</th>\n",
       "      <th>distance_to_closest_train</th>\n",
       "      <th>distance_to_closest_bus</th>\n",
       "      <th>distance_to_closest_tram</th>\n",
       "      <th>distance_to_melbourne_cbd</th>\n",
       "      <th>distance_to_closest_supermarket</th>\n",
       "    </tr>\n",
       "  </thead>\n",
       "  <tbody>\n",
       "    <tr>\n",
       "      <th>0</th>\n",
       "      <td>60 Little Windrock Lane, Craigieburn VIC 3064 ...</td>\n",
       "      <td>View this 2 bedroom, 1 bathroom rental house a...</td>\n",
       "      <td>60 Little Windrock Lane, Craigieburn VIC 3064</td>\n",
       "      <td>Craigieburn</td>\n",
       "      <td>3064</td>\n",
       "      <td>450.0</td>\n",
       "      <td>2.0</td>\n",
       "      <td>1.0</td>\n",
       "      <td>1.0</td>\n",
       "      <td>House</td>\n",
       "      <td>...</td>\n",
       "      <td>0.0</td>\n",
       "      <td>False</td>\n",
       "      <td>589.584078</td>\n",
       "      <td>-37.588897</td>\n",
       "      <td>144.915516</td>\n",
       "      <td>3587.757681</td>\n",
       "      <td>241.893482</td>\n",
       "      <td>17783.424475</td>\n",
       "      <td>31577.387322</td>\n",
       "      <td>491.097565</td>\n",
       "    </tr>\n",
       "    <tr>\n",
       "      <th>1</th>\n",
       "      <td>53 Were Street, Brighton VIC 3186 - House For ...</td>\n",
       "      <td>View this $1,500/week 4 bedroom, 2 bathroom re...</td>\n",
       "      <td>53 Were Street, Brighton VIC 3186</td>\n",
       "      <td>Brighton</td>\n",
       "      <td>3186</td>\n",
       "      <td>1490.0</td>\n",
       "      <td>4.0</td>\n",
       "      <td>2.0</td>\n",
       "      <td>2.0</td>\n",
       "      <td>House</td>\n",
       "      <td>...</td>\n",
       "      <td>2.0</td>\n",
       "      <td>True</td>\n",
       "      <td>279.204790</td>\n",
       "      <td>-37.925640</td>\n",
       "      <td>144.999904</td>\n",
       "      <td>1201.725436</td>\n",
       "      <td>263.466321</td>\n",
       "      <td>2485.958722</td>\n",
       "      <td>16794.359101</td>\n",
       "      <td>1910.765178</td>\n",
       "    </tr>\n",
       "    <tr>\n",
       "      <th>2</th>\n",
       "      <td>43 Tackle Drive, Point Cook VIC 3030 - Townhou...</td>\n",
       "      <td>View this 3 bedroom, 2 bathroom rental townhou...</td>\n",
       "      <td>43 Tackle Drive, Point Cook VIC 3030</td>\n",
       "      <td>Point Cook</td>\n",
       "      <td>3030</td>\n",
       "      <td>550.0</td>\n",
       "      <td>3.0</td>\n",
       "      <td>2.0</td>\n",
       "      <td>2.0</td>\n",
       "      <td>Townhouse/Villa</td>\n",
       "      <td>...</td>\n",
       "      <td>0.0</td>\n",
       "      <td>True</td>\n",
       "      <td>845.354703</td>\n",
       "      <td>-37.906257</td>\n",
       "      <td>144.720254</td>\n",
       "      <td>3890.225343</td>\n",
       "      <td>713.624953</td>\n",
       "      <td>24933.663604</td>\n",
       "      <td>30206.465031</td>\n",
       "      <td>1381.567610</td>\n",
       "    </tr>\n",
       "    <tr>\n",
       "      <th>3</th>\n",
       "      <td>3 Rostrevor Parade, Mont Albert VIC 3127 - Hou...</td>\n",
       "      <td>View this 5 bedroom, 2 bathroom rental house a...</td>\n",
       "      <td>3 Rostrevor Parade, Mont Albert VIC 3127</td>\n",
       "      <td>Mont Albert</td>\n",
       "      <td>3127</td>\n",
       "      <td>800.0</td>\n",
       "      <td>5.0</td>\n",
       "      <td>2.0</td>\n",
       "      <td>2.0</td>\n",
       "      <td>House</td>\n",
       "      <td>...</td>\n",
       "      <td>0.0</td>\n",
       "      <td>False</td>\n",
       "      <td>286.075947</td>\n",
       "      <td>-37.812918</td>\n",
       "      <td>145.106110</td>\n",
       "      <td>917.642280</td>\n",
       "      <td>424.603215</td>\n",
       "      <td>481.283363</td>\n",
       "      <td>15957.735572</td>\n",
       "      <td>1069.539360</td>\n",
       "    </tr>\n",
       "    <tr>\n",
       "      <th>4</th>\n",
       "      <td>48 Roberts Street, Frankston VIC 3199 - Studio...</td>\n",
       "      <td>View this 9 bedroom, 3 bathroom rental studio ...</td>\n",
       "      <td>48 Roberts Street, Frankston VIC 3199</td>\n",
       "      <td>Frankston</td>\n",
       "      <td>3199</td>\n",
       "      <td>299.0</td>\n",
       "      <td>9.0</td>\n",
       "      <td>3.0</td>\n",
       "      <td>4.0</td>\n",
       "      <td>Apartment</td>\n",
       "      <td>...</td>\n",
       "      <td>1.0</td>\n",
       "      <td>False</td>\n",
       "      <td>941.545172</td>\n",
       "      <td>-38.154913</td>\n",
       "      <td>145.140409</td>\n",
       "      <td>420.672031</td>\n",
       "      <td>555.155741</td>\n",
       "      <td>36692.954646</td>\n",
       "      <td>52546.454397</td>\n",
       "      <td>612.948151</td>\n",
       "    </tr>\n",
       "  </tbody>\n",
       "</table>\n",
       "<p>5 rows × 25 columns</p>\n",
       "</div>"
      ],
      "text/plain": [
       "                                               title  \\\n",
       "0  60 Little Windrock Lane, Craigieburn VIC 3064 ...   \n",
       "1  53 Were Street, Brighton VIC 3186 - House For ...   \n",
       "2  43 Tackle Drive, Point Cook VIC 3030 - Townhou...   \n",
       "3  3 Rostrevor Parade, Mont Albert VIC 3127 - Hou...   \n",
       "4  48 Roberts Street, Frankston VIC 3199 - Studio...   \n",
       "\n",
       "                                         description  \\\n",
       "0  View this 2 bedroom, 1 bathroom rental house a...   \n",
       "1  View this $1,500/week 4 bedroom, 2 bathroom re...   \n",
       "2  View this 3 bedroom, 2 bathroom rental townhou...   \n",
       "3  View this 5 bedroom, 2 bathroom rental house a...   \n",
       "4  View this 9 bedroom, 3 bathroom rental studio ...   \n",
       "\n",
       "                                  street_address       suburb postcode  \\\n",
       "0  60 Little Windrock Lane, Craigieburn VIC 3064  Craigieburn     3064   \n",
       "1              53 Were Street, Brighton VIC 3186     Brighton     3186   \n",
       "2           43 Tackle Drive, Point Cook VIC 3030   Point Cook     3030   \n",
       "3       3 Rostrevor Parade, Mont Albert VIC 3127  Mont Albert     3127   \n",
       "4          48 Roberts Street, Frankston VIC 3199    Frankston     3199   \n",
       "\n",
       "    price  bedrooms  bathrooms  parking primary_property_type  ...  \\\n",
       "0   450.0       2.0        1.0      1.0                 House  ...   \n",
       "1  1490.0       4.0        2.0      2.0                 House  ...   \n",
       "2   550.0       3.0        2.0      2.0       Townhouse/Villa  ...   \n",
       "3   800.0       5.0        2.0      2.0                 House  ...   \n",
       "4   299.0       9.0        3.0      4.0             Apartment  ...   \n",
       "\n",
       "  floor_plans_count  virtual_tour  nearby_schools   latitude   longitude  \\\n",
       "0               0.0         False      589.584078 -37.588897  144.915516   \n",
       "1               2.0          True      279.204790 -37.925640  144.999904   \n",
       "2               0.0          True      845.354703 -37.906257  144.720254   \n",
       "3               0.0         False      286.075947 -37.812918  145.106110   \n",
       "4               1.0         False      941.545172 -38.154913  145.140409   \n",
       "\n",
       "   distance_to_closest_train  distance_to_closest_bus  \\\n",
       "0                3587.757681               241.893482   \n",
       "1                1201.725436               263.466321   \n",
       "2                3890.225343               713.624953   \n",
       "3                 917.642280               424.603215   \n",
       "4                 420.672031               555.155741   \n",
       "\n",
       "   distance_to_closest_tram  distance_to_melbourne_cbd  \\\n",
       "0              17783.424475               31577.387322   \n",
       "1               2485.958722               16794.359101   \n",
       "2              24933.663604               30206.465031   \n",
       "3                481.283363               15957.735572   \n",
       "4              36692.954646               52546.454397   \n",
       "\n",
       "   distance_to_closest_supermarket  \n",
       "0                       491.097565  \n",
       "1                      1910.765178  \n",
       "2                      1381.567610  \n",
       "3                      1069.539360  \n",
       "4                       612.948151  \n",
       "\n",
       "[5 rows x 25 columns]"
      ]
     },
     "execution_count": 3,
     "metadata": {},
     "output_type": "execute_result"
    }
   ],
   "source": [
    "property_df = pd.read_parquet(\"../data/raw/property_details_w_distances.parquet\")\n",
    "print(\"Total entries:\", len(property_df))\n",
    "property_df.head()"
   ]
  },
  {
   "cell_type": "markdown",
   "metadata": {},
   "source": [
    "### **SA2 District Boundaries (ABS)**\n",
    "\n",
    "We obtained the 2021 dataset for granularity Statistical Area Level 2 (SA2) from the Australian Bureau of Statistics (ABS). These are the following pre-processing steps: These are the following pre-processing steps:\n",
    "* Filtered the SA2 data to contain Victoria \n",
    "* Converted relevant data types to features, such as strings for SA2 areas and integers for population."
   ]
  },
  {
   "cell_type": "code",
   "execution_count": 4,
   "metadata": {},
   "outputs": [
    {
     "name": "stdout",
     "output_type": "stream",
     "text": [
      "Total entries: 524\n"
     ]
    },
    {
     "data": {
      "text/html": [
       "<div>\n",
       "<style scoped>\n",
       "    .dataframe tbody tr th:only-of-type {\n",
       "        vertical-align: middle;\n",
       "    }\n",
       "\n",
       "    .dataframe tbody tr th {\n",
       "        vertical-align: top;\n",
       "    }\n",
       "\n",
       "    .dataframe thead th {\n",
       "        text-align: right;\n",
       "    }\n",
       "</style>\n",
       "<table border=\"1\" class=\"dataframe\">\n",
       "  <thead>\n",
       "    <tr style=\"text-align: right;\">\n",
       "      <th></th>\n",
       "      <th>SA2_CODE_2021</th>\n",
       "      <th>SA2_NAME_2021</th>\n",
       "      <th>STATE_NAME_2021</th>\n",
       "    </tr>\n",
       "  </thead>\n",
       "  <tbody>\n",
       "    <tr>\n",
       "      <th>0</th>\n",
       "      <td>201011001</td>\n",
       "      <td>Alfredton</td>\n",
       "      <td>Victoria</td>\n",
       "    </tr>\n",
       "    <tr>\n",
       "      <th>1</th>\n",
       "      <td>201011002</td>\n",
       "      <td>Ballarat</td>\n",
       "      <td>Victoria</td>\n",
       "    </tr>\n",
       "    <tr>\n",
       "      <th>2</th>\n",
       "      <td>201011005</td>\n",
       "      <td>Buninyong</td>\n",
       "      <td>Victoria</td>\n",
       "    </tr>\n",
       "    <tr>\n",
       "      <th>3</th>\n",
       "      <td>201011006</td>\n",
       "      <td>Delacombe</td>\n",
       "      <td>Victoria</td>\n",
       "    </tr>\n",
       "    <tr>\n",
       "      <th>4</th>\n",
       "      <td>201011007</td>\n",
       "      <td>Smythes Creek</td>\n",
       "      <td>Victoria</td>\n",
       "    </tr>\n",
       "  </tbody>\n",
       "</table>\n",
       "</div>"
      ],
      "text/plain": [
       "   SA2_CODE_2021  SA2_NAME_2021 STATE_NAME_2021\n",
       "0      201011001      Alfredton        Victoria\n",
       "1      201011002       Ballarat        Victoria\n",
       "2      201011005      Buninyong        Victoria\n",
       "3      201011006      Delacombe        Victoria\n",
       "4      201011007  Smythes Creek        Victoria"
      ]
     },
     "execution_count": 4,
     "metadata": {},
     "output_type": "execute_result"
    }
   ],
   "source": [
    "sa2Areas = pd.read_csv('../data/curated/SA2_Victoria.csv')\n",
    "print(\"Total entries:\", len(sa2Areas))\n",
    "sa2Areas.head()"
   ]
  },
  {
   "cell_type": "markdown",
   "metadata": {},
   "source": [
    "### **Population and Income by SA2**\n",
    "\n",
    "The Population dataset is from 2018 to 2023, where features selected are suburb, year, and estimated resident population. The Income dataset is from 2016 to 2020 with selected features as suburb, year, and median employee income. We forecasted the population and income by SA2 districts from 2024 to 2026. \n",
    "\n",
    "Both *income and population* follows the *same* pre-processing steps:\n",
    "* Removed entries not within the Victoria SA2 codes \n",
    "* Removed missing features for population and remove missing rows for income\n",
    "* Removed duplicate rows based on 'Label' and 'Year'\n",
    "\n",
    "Modelling growth rates:\n",
    "We used three models—Linear Regression, Random Forest, and Gradient Boosting—to predict growth rates and chose the model with the lowest RMSE. We trained on data from 2019 to 2022 and tested it on 2023. Linear Regression had the best performance with an RMSE of 198, compared to 2182 for Random Forest and 2189 for Gradient Boosting. \n",
    "\n",
    "Therefore, Linear Regression was selected to predict population and income growth for 2024-2026, shown below"
   ]
  },
  {
   "cell_type": "code",
   "execution_count": 5,
   "metadata": {},
   "outputs": [
    {
     "name": "stdout",
     "output_type": "stream",
     "text": [
      "Total entries: 399\n"
     ]
    },
    {
     "data": {
      "text/html": [
       "<div>\n",
       "<style scoped>\n",
       "    .dataframe tbody tr th:only-of-type {\n",
       "        vertical-align: middle;\n",
       "    }\n",
       "\n",
       "    .dataframe tbody tr th {\n",
       "        vertical-align: top;\n",
       "    }\n",
       "\n",
       "    .dataframe thead th {\n",
       "        text-align: right;\n",
       "    }\n",
       "</style>\n",
       "<table border=\"1\" class=\"dataframe\">\n",
       "  <thead>\n",
       "    <tr style=\"text-align: right;\">\n",
       "      <th></th>\n",
       "      <th>Label</th>\n",
       "      <th>median_income_2016</th>\n",
       "      <th>median_income_2017</th>\n",
       "      <th>median_income_2018</th>\n",
       "      <th>median_income_2019</th>\n",
       "      <th>median_income_2020</th>\n",
       "      <th>median_income_2021</th>\n",
       "      <th>median_income_2022</th>\n",
       "      <th>median_income_2023</th>\n",
       "      <th>median_income_2024</th>\n",
       "      <th>median_income_2025</th>\n",
       "      <th>median_income_2026</th>\n",
       "    </tr>\n",
       "  </thead>\n",
       "  <tbody>\n",
       "    <tr>\n",
       "      <th>0</th>\n",
       "      <td>Abbotsford</td>\n",
       "      <td>56001</td>\n",
       "      <td>56242</td>\n",
       "      <td>59923</td>\n",
       "      <td>61918</td>\n",
       "      <td>66091</td>\n",
       "      <td>69104.795585</td>\n",
       "      <td>71219.795864</td>\n",
       "      <td>74636.644356</td>\n",
       "      <td>77788.073345</td>\n",
       "      <td>80427.684311</td>\n",
       "      <td>83781.391430</td>\n",
       "    </tr>\n",
       "    <tr>\n",
       "      <th>1</th>\n",
       "      <td>Airport West</td>\n",
       "      <td>54708</td>\n",
       "      <td>56619</td>\n",
       "      <td>58350</td>\n",
       "      <td>60992</td>\n",
       "      <td>62920</td>\n",
       "      <td>65268.165154</td>\n",
       "      <td>68154.903250</td>\n",
       "      <td>70695.851426</td>\n",
       "      <td>73394.212934</td>\n",
       "      <td>76451.213723</td>\n",
       "      <td>79397.004301</td>\n",
       "    </tr>\n",
       "    <tr>\n",
       "      <th>2</th>\n",
       "      <td>Albert Park</td>\n",
       "      <td>64048</td>\n",
       "      <td>62922</td>\n",
       "      <td>64900</td>\n",
       "      <td>65880</td>\n",
       "      <td>68836</td>\n",
       "      <td>71758.449466</td>\n",
       "      <td>73918.640871</td>\n",
       "      <td>77000.919533</td>\n",
       "      <td>80239.921519</td>\n",
       "      <td>83055.592588</td>\n",
       "      <td>86331.495226</td>\n",
       "    </tr>\n",
       "    <tr>\n",
       "      <th>3</th>\n",
       "      <td>Alexandra</td>\n",
       "      <td>38251</td>\n",
       "      <td>39811</td>\n",
       "      <td>41230</td>\n",
       "      <td>42447</td>\n",
       "      <td>44033</td>\n",
       "      <td>46010.900933</td>\n",
       "      <td>47833.306333</td>\n",
       "      <td>49778.505143</td>\n",
       "      <td>51958.291329</td>\n",
       "      <td>54092.617842</td>\n",
       "      <td>56294.447393</td>\n",
       "    </tr>\n",
       "    <tr>\n",
       "      <th>4</th>\n",
       "      <td>Alfredton</td>\n",
       "      <td>49071</td>\n",
       "      <td>50119</td>\n",
       "      <td>52709</td>\n",
       "      <td>53765</td>\n",
       "      <td>55019</td>\n",
       "      <td>57905.793758</td>\n",
       "      <td>60042.535187</td>\n",
       "      <td>62020.613758</td>\n",
       "      <td>64882.959903</td>\n",
       "      <td>67482.620117</td>\n",
       "      <td>69928.862355</td>\n",
       "    </tr>\n",
       "  </tbody>\n",
       "</table>\n",
       "</div>"
      ],
      "text/plain": [
       "          Label  median_income_2016  median_income_2017  median_income_2018  \\\n",
       "0    Abbotsford               56001               56242               59923   \n",
       "1  Airport West               54708               56619               58350   \n",
       "2   Albert Park               64048               62922               64900   \n",
       "3     Alexandra               38251               39811               41230   \n",
       "4     Alfredton               49071               50119               52709   \n",
       "\n",
       "   median_income_2019  median_income_2020  median_income_2021  \\\n",
       "0               61918               66091        69104.795585   \n",
       "1               60992               62920        65268.165154   \n",
       "2               65880               68836        71758.449466   \n",
       "3               42447               44033        46010.900933   \n",
       "4               53765               55019        57905.793758   \n",
       "\n",
       "   median_income_2022  median_income_2023  median_income_2024  \\\n",
       "0        71219.795864        74636.644356        77788.073345   \n",
       "1        68154.903250        70695.851426        73394.212934   \n",
       "2        73918.640871        77000.919533        80239.921519   \n",
       "3        47833.306333        49778.505143        51958.291329   \n",
       "4        60042.535187        62020.613758        64882.959903   \n",
       "\n",
       "   median_income_2025  median_income_2026  \n",
       "0        80427.684311        83781.391430  \n",
       "1        76451.213723        79397.004301  \n",
       "2        83055.592588        86331.495226  \n",
       "3        54092.617842        56294.447393  \n",
       "4        67482.620117        69928.862355  "
      ]
     },
     "execution_count": 5,
     "metadata": {},
     "output_type": "execute_result"
    }
   ],
   "source": [
    "income_by_sa2 = pd.read_csv(\"../data/curated/income_by_sa2.csv\")\n",
    "print(\"Total entries:\", len(income_by_sa2))\n",
    "income_by_sa2.head()"
   ]
  },
  {
   "cell_type": "code",
   "execution_count": 6,
   "metadata": {},
   "outputs": [
    {
     "name": "stdout",
     "output_type": "stream",
     "text": [
      "Total entries: 517\n"
     ]
    },
    {
     "data": {
      "text/html": [
       "<div>\n",
       "<style scoped>\n",
       "    .dataframe tbody tr th:only-of-type {\n",
       "        vertical-align: middle;\n",
       "    }\n",
       "\n",
       "    .dataframe tbody tr th {\n",
       "        vertical-align: top;\n",
       "    }\n",
       "\n",
       "    .dataframe thead th {\n",
       "        text-align: right;\n",
       "    }\n",
       "</style>\n",
       "<table border=\"1\" class=\"dataframe\">\n",
       "  <thead>\n",
       "    <tr style=\"text-align: right;\">\n",
       "      <th></th>\n",
       "      <th>Label</th>\n",
       "      <th>estimated_population_2018</th>\n",
       "      <th>estimated_population_2019</th>\n",
       "      <th>estimated_population_2020</th>\n",
       "      <th>estimated_population_2021</th>\n",
       "      <th>estimated_population_2022</th>\n",
       "      <th>estimated_population_2023</th>\n",
       "      <th>estimated_population_2024</th>\n",
       "      <th>estimated_population_2025</th>\n",
       "      <th>estimated_population_2026</th>\n",
       "    </tr>\n",
       "  </thead>\n",
       "  <tbody>\n",
       "    <tr>\n",
       "      <th>0</th>\n",
       "      <td>Abbotsford</td>\n",
       "      <td>9527</td>\n",
       "      <td>9594</td>\n",
       "      <td>9672</td>\n",
       "      <td>9258</td>\n",
       "      <td>9513</td>\n",
       "      <td>10008</td>\n",
       "      <td>10527.676824</td>\n",
       "      <td>10914.578045</td>\n",
       "      <td>11189.069984</td>\n",
       "    </tr>\n",
       "    <tr>\n",
       "      <th>1</th>\n",
       "      <td>Airport West</td>\n",
       "      <td>8169</td>\n",
       "      <td>8390</td>\n",
       "      <td>8362</td>\n",
       "      <td>8240</td>\n",
       "      <td>8295</td>\n",
       "      <td>8464</td>\n",
       "      <td>8683.181491</td>\n",
       "      <td>8896.540332</td>\n",
       "      <td>9093.092637</td>\n",
       "    </tr>\n",
       "    <tr>\n",
       "      <th>2</th>\n",
       "      <td>Albert Park</td>\n",
       "      <td>16728</td>\n",
       "      <td>17081</td>\n",
       "      <td>16955</td>\n",
       "      <td>16011</td>\n",
       "      <td>16177</td>\n",
       "      <td>16861</td>\n",
       "      <td>17665.062455</td>\n",
       "      <td>18280.665009</td>\n",
       "      <td>18706.847174</td>\n",
       "    </tr>\n",
       "    <tr>\n",
       "      <th>3</th>\n",
       "      <td>Alexandra</td>\n",
       "      <td>6646</td>\n",
       "      <td>6687</td>\n",
       "      <td>6690</td>\n",
       "      <td>6771</td>\n",
       "      <td>6794</td>\n",
       "      <td>6836</td>\n",
       "      <td>6915.938566</td>\n",
       "      <td>7038.105197</td>\n",
       "      <td>7186.668076</td>\n",
       "    </tr>\n",
       "    <tr>\n",
       "      <th>4</th>\n",
       "      <td>Alfredton</td>\n",
       "      <td>13537</td>\n",
       "      <td>14434</td>\n",
       "      <td>15507</td>\n",
       "      <td>16841</td>\n",
       "      <td>18002</td>\n",
       "      <td>18997</td>\n",
       "      <td>19771.949269</td>\n",
       "      <td>20395.671019</td>\n",
       "      <td>20940.982750</td>\n",
       "    </tr>\n",
       "  </tbody>\n",
       "</table>\n",
       "</div>"
      ],
      "text/plain": [
       "          Label  estimated_population_2018  estimated_population_2019  \\\n",
       "0    Abbotsford                       9527                       9594   \n",
       "1  Airport West                       8169                       8390   \n",
       "2   Albert Park                      16728                      17081   \n",
       "3     Alexandra                       6646                       6687   \n",
       "4     Alfredton                      13537                      14434   \n",
       "\n",
       "   estimated_population_2020  estimated_population_2021  \\\n",
       "0                       9672                       9258   \n",
       "1                       8362                       8240   \n",
       "2                      16955                      16011   \n",
       "3                       6690                       6771   \n",
       "4                      15507                      16841   \n",
       "\n",
       "   estimated_population_2022  estimated_population_2023  \\\n",
       "0                       9513                      10008   \n",
       "1                       8295                       8464   \n",
       "2                      16177                      16861   \n",
       "3                       6794                       6836   \n",
       "4                      18002                      18997   \n",
       "\n",
       "   estimated_population_2024  estimated_population_2025  \\\n",
       "0               10527.676824               10914.578045   \n",
       "1                8683.181491                8896.540332   \n",
       "2               17665.062455               18280.665009   \n",
       "3                6915.938566                7038.105197   \n",
       "4               19771.949269               20395.671019   \n",
       "\n",
       "   estimated_population_2026  \n",
       "0               11189.069984  \n",
       "1                9093.092637  \n",
       "2               18706.847174  \n",
       "3                7186.668076  \n",
       "4               20940.982750  "
      ]
     },
     "execution_count": 6,
     "metadata": {},
     "output_type": "execute_result"
    }
   ],
   "source": [
    "population_by_sa2 = pd.read_csv('../data/curated/population_by_sa2.csv')\n",
    "print(\"Total entries:\", len(population_by_sa2))\n",
    "population_by_sa2.head()"
   ]
  },
  {
   "cell_type": "markdown",
   "metadata": {},
   "source": [
    "# Questions and Analysis"
   ]
  },
  {
   "cell_type": "markdown",
   "metadata": {},
   "source": [
    "## 1. What are the most important internal and external features in predicting rental prices?\n",
    "\n",
    "Two graphs, such as feature importance from Random Forest and a correlation heatmap of property features, provide insights to the internal and external factors in predicting rental prices in Victoria, Australia.\n",
    "\n",
    "**Internal Features:**\n",
    "1. **Bathrooms**\n",
    "* Point: bathrooms have highest importance in predicting rental prices.\n",
    "* Evidence: feature importance (0.175), positive correlation (0.46) \n",
    "* Explain: more bathrooms suggests increased privacy, especially in shared/family homes, thus increased demand, thus increases rental price.\n",
    "* Link: \n",
    "    *  Investors target properties with multiple bathrooms to attract families and friend groups, leading to higher rent. \n",
    "    * Renters are more aware that more bathrooms means higher rental costs, thus opportunity costs between privacy or affordability. \n",
    "2. **Bedrooms**\n",
    "* Point: bedrooms have 2nd highest importance in predicting rental prices.\n",
    "* Evidence: feature importance (0.12), positive correlation (0.31) \n",
    "* Explain: larger homes attract families/groups, higher demand for land area, so increases demand.\n",
    "* Link: \n",
    "    *  Investors target properties with more bedrooms in areas with rising demand to maximise returns.\n",
    "    * Renters understand that more bedrooms means higher rental costs but ideal for families or shared living.\n",
    "\n",
    "**External Features:**\n",
    "1. Highest: Distance to closest Tram \n",
    "* Point: proximity to tram stops influences rental price\n",
    "* Evidence: Feature importance (0.125), negative correlation (-0.02). As the property's distance from the nearest tram stop decreases, the rental price increases. \n",
    "* Explanation: convenience to public transport, higher demand for renters who do not drive\n",
    "* Link: \n",
    "    * Investors target properties close to tram stops, usually near CBD. \n",
    "    * Renters understand trade off between convenience going to work with nearby trams but higher rents.\n",
    "2. Distance to Melbourne CBD \n",
    "* Point: proximity to City Centre are important in predicting rental prices. \n",
    "* Evidence: Feature importance (0.12), negative correlation (-0.2): As the distance to CBD decreases, the rental price increases.\n",
    "* Explain: employment opportunities, amenities convenience, more universities, city life\n",
    "* Link: \n",
    "    *  Investors target properties near CBD to provide highest growth potential.\n",
    "    * Renters can budget by living further from CBD to get lower rents. \n",
    "\n",
    "Conclusion: \n",
    "* Investors should invest on properties near the CBD with many tram stops nearby, where properties have a large number of bathrooms or bedrooms. This is usually for student groups demographic who prefer to live in apartment or shared houses in city centre.\n",
    "* Renters looking for affordable rent should live in suburban areas with limited tram access and be open to sharing bathrooms or bedrooms with roommates."
   ]
  },
  {
   "cell_type": "code",
   "execution_count": 7,
   "metadata": {},
   "outputs": [
    {
     "data": {
      "text/html": [
       "<img src=\"../plots/feature_importance.png\" height=\"400\"/>"
      ],
      "text/plain": [
       "<IPython.core.display.Image object>"
      ]
     },
     "execution_count": 7,
     "metadata": {},
     "output_type": "execute_result"
    }
   ],
   "source": [
    "Image(url=\"../plots/feature_importance.png\", height=400)"
   ]
  },
  {
   "cell_type": "code",
   "execution_count": 8,
   "metadata": {},
   "outputs": [
    {
     "data": {
      "text/html": [
       "<img src=\"../plots/correlation_heatmap.png\" width=\"700\" height=\"500\"/>"
      ],
      "text/plain": [
       "<IPython.core.display.Image object>"
      ]
     },
     "execution_count": 8,
     "metadata": {},
     "output_type": "execute_result"
    }
   ],
   "source": [
    "Image(url=\"../plots/correlation_heatmap.png\", width=700, height=500)"
   ]
  },
  {
   "cell_type": "markdown",
   "metadata": {},
   "source": [
    "## 2. What are the top 10 suburbs with the highest predicted growth rate?\n",
    "\n",
    "We used a LASSO Regression to predict future median rental prices for 2024-2026. Our features selected were population and income.\n",
    "\n",
    "We utilised historical trends in growth rate for population and income, assuming that these features will continue to predict future rental growth. \n",
    "\n",
    "From Table 1, the top 10 suburbs with highest predicted growth rate are:\n",
    "1. Albert Park\n",
    "2. Sunshine\n",
    "3. Broadmeadows\n",
    "4. Swan Hill\n",
    "5. Fawkner\n",
    "6. Elwood\n",
    "7. Hurstbridge\n",
    "8. Dandenong North\n",
    "9. Thomastown\n",
    "10. Buninyong\n",
    "\n",
    "For real estate investors seeking for strong and consistent price growth:\n",
    "* Target suburbs like Albert park, Sunshine, and Broadmeadows\n",
    "* Albert Park has largest growth (22.56%) with median projected rent of $668 by 2026. Sunshine and Broadmeadows (22.42% and 21.56% growth respectively) offer high median rents around $453–$480.\n",
    "* Average projected growth of 9.16% from 2023-2026\n",
    "* May be due to population and income growth that increases urbanisation and spending in Melbourne's outer suburbs, thus increasing demand and increasing rental price. \n",
    "\n",
    "From Figure 2,\n",
    "* Higher median incomes in suburbs for Albert Park, Elwood, and Camberwell, around $80,000\n",
    "* Wealthier high-income areas attracts demand, more desirable for buyers, thus lead to higher investment potential."
   ]
  },
  {
   "cell_type": "code",
   "execution_count": 21,
   "metadata": {},
   "outputs": [
    {
     "data": {
      "text/html": [
       "<div>\n",
       "<style scoped>\n",
       "    .dataframe tbody tr th:only-of-type {\n",
       "        vertical-align: middle;\n",
       "    }\n",
       "\n",
       "    .dataframe tbody tr th {\n",
       "        vertical-align: top;\n",
       "    }\n",
       "\n",
       "    .dataframe thead th {\n",
       "        text-align: right;\n",
       "    }\n",
       "</style>\n",
       "<table border=\"1\" class=\"dataframe\">\n",
       "  <thead>\n",
       "    <tr style=\"text-align: right;\">\n",
       "      <th></th>\n",
       "      <th>Label</th>\n",
       "      <th>Percentage Growth</th>\n",
       "    </tr>\n",
       "  </thead>\n",
       "  <tbody>\n",
       "    <tr>\n",
       "      <th>0</th>\n",
       "      <td>Albert Park</td>\n",
       "      <td>22.563038</td>\n",
       "    </tr>\n",
       "    <tr>\n",
       "      <th>1</th>\n",
       "      <td>Sunshine</td>\n",
       "      <td>22.420130</td>\n",
       "    </tr>\n",
       "    <tr>\n",
       "      <th>2</th>\n",
       "      <td>Broadmeadows</td>\n",
       "      <td>21.563606</td>\n",
       "    </tr>\n",
       "    <tr>\n",
       "      <th>3</th>\n",
       "      <td>Swan Hill</td>\n",
       "      <td>19.766879</td>\n",
       "    </tr>\n",
       "    <tr>\n",
       "      <th>4</th>\n",
       "      <td>Fawkner</td>\n",
       "      <td>19.431414</td>\n",
       "    </tr>\n",
       "    <tr>\n",
       "      <th>5</th>\n",
       "      <td>Elwood</td>\n",
       "      <td>18.827259</td>\n",
       "    </tr>\n",
       "    <tr>\n",
       "      <th>6</th>\n",
       "      <td>Hurstbridge</td>\n",
       "      <td>17.629904</td>\n",
       "    </tr>\n",
       "    <tr>\n",
       "      <th>7</th>\n",
       "      <td>Dandenong North</td>\n",
       "      <td>17.100228</td>\n",
       "    </tr>\n",
       "    <tr>\n",
       "      <th>8</th>\n",
       "      <td>Thomastown</td>\n",
       "      <td>16.633983</td>\n",
       "    </tr>\n",
       "    <tr>\n",
       "      <th>9</th>\n",
       "      <td>Buninyong</td>\n",
       "      <td>16.538090</td>\n",
       "    </tr>\n",
       "  </tbody>\n",
       "</table>\n",
       "</div>"
      ],
      "text/plain": [
       "             Label  Percentage Growth\n",
       "0      Albert Park          22.563038\n",
       "1         Sunshine          22.420130\n",
       "2     Broadmeadows          21.563606\n",
       "3        Swan Hill          19.766879\n",
       "4          Fawkner          19.431414\n",
       "5           Elwood          18.827259\n",
       "6      Hurstbridge          17.629904\n",
       "7  Dandenong North          17.100228\n",
       "8       Thomastown          16.633983\n",
       "9        Buninyong          16.538090"
      ]
     },
     "execution_count": 21,
     "metadata": {},
     "output_type": "execute_result"
    }
   ],
   "source": [
    "# Table 1 - top 10 suburbs with highest predicted growth\n",
    "data = pd.read_csv(\"../data/curated/suburb_level_results.csv\")\n",
    "data"
   ]
  },
  {
   "cell_type": "code",
   "execution_count": 26,
   "metadata": {},
   "outputs": [
    {
     "data": {
      "text/html": [
       "<img src=\"../plots/average_income_per_suburb_1.png\"/>"
      ],
      "text/plain": [
       "<IPython.core.display.Image object>"
      ]
     },
     "execution_count": 26,
     "metadata": {},
     "output_type": "execute_result"
    }
   ],
   "source": [
    "# Figure 2 - Income of the highest growth suburbs\n",
    "Image(url=\"../plots/average_income_per_suburb_1.png\")"
   ]
  },
  {
   "cell_type": "code",
   "execution_count": 11,
   "metadata": {},
   "outputs": [
    {
     "data": {
      "text/html": [
       "<img src=\"../plots/average_median_price_projected.png\" width=\"600\" height=\"400\"/>"
      ],
      "text/plain": [
       "<IPython.core.display.Image object>"
      ]
     },
     "execution_count": 11,
     "metadata": {},
     "output_type": "execute_result"
    }
   ],
   "source": [
    "# Figure 3 - Average predicted rent per week projections\n",
    "Image(url='../plots/average_median_price_projected.png', width=600, height=400)"
   ]
  },
  {
   "cell_type": "markdown",
   "metadata": {},
   "source": [
    "## 3. What are the most liveable and affordable suburbs according to your chosen metrics?\n",
    "\n",
    "##### **Liveability**\n",
    "\n",
    "Liveability Score is weighted and justified as:\n",
    "1. Average Property Price: 50% weight, since affordability was assumed as top priority for renters seeking livability.\n",
    "2. Distance to the Closest Supermarket: 16.6% weight, since convenience and accessibility to daily necessities improves quality of life.\n",
    "3. Average Distance to Public Transport (PTV): 16.6% weight, because convenient access to public transport reduced commuting stress thus better quality of life.\n",
    "4. Distance to the Closest School: 16.6% weight, as convenience to school is important for families with children. This factor has the same weight as transport and supermarket proximity.\n",
    "\n",
    "Lower liveability score is better due to the distance negatively correlation with better living conditions. For example, there is an inverse relationship where less distance to supermarket means a property is more liveable. \n",
    "\n",
    "Our results are described below:\n",
    "* Top 3 Livable Suburbs West Melbourne, Seddon, Footscray, from the bar plots for Top 20 Livable Suburbs\n",
    "* Livable suburbs highly concentrated around Melbourne CBD to nearby Suburb areas, from the Heatmap\n",
    "* Explain: Suburban areas near CBD has balance of affordability and convenient access to necessities, commuting options, and education.\n",
    "West Melbourne, Seddon, and Footscray are 20 minutes driving distance from CBD, which is not too long, and their trams and service infrastructure are still well-developed, thus contributing to liveability. \n",
    "* Link: \n",
    "    * Investors can invest on cheaper suburbs compared to CBD centres, with more stable rental demand due to balance of affordability and convenience.\n",
    "    * Renters can live affordably without sacrificing convenience and expensive costs of CBD's rent."
   ]
  },
  {
   "cell_type": "code",
   "execution_count": 12,
   "metadata": {},
   "outputs": [
    {
     "data": {
      "text/html": [
       "<img src=\"../plots/top_20_suburbs_livability.png\" width=\"600\" height=\"400\"/>"
      ],
      "text/plain": [
       "<IPython.core.display.Image object>"
      ]
     },
     "execution_count": 12,
     "metadata": {},
     "output_type": "execute_result"
    }
   ],
   "source": [
    "Image(url='../plots/top_20_suburbs_livability.png', width=600, height=400)"
   ]
  },
  {
   "cell_type": "code",
   "execution_count": 13,
   "metadata": {},
   "outputs": [
    {
     "data": {
      "text/html": [
       "<img src=\"../plots/property_livability_score_heatmap.png\" width=\"600\" height=\"400\"/>"
      ],
      "text/plain": [
       "<IPython.core.display.Image object>"
      ]
     },
     "execution_count": 13,
     "metadata": {},
     "output_type": "execute_result"
    }
   ],
   "source": [
    "Image(url='../plots/property_livability_score_heatmap.png', width=600, height=400)"
   ]
  },
  {
   "cell_type": "markdown",
   "metadata": {},
   "source": [
    "##### **Affordability**\n",
    "\n",
    "Suburbs or regional areas provides a cheaper rent thus more affordable living options for renters.\n",
    "Here, we compute suburbs that have greater than 5 properties in each area, then we find the top 20 most affordable suburbs.\n",
    "\n",
    "Evidence:\n",
    "* Bar plots shows Byaduk North and Hamilton (both 3.5 hours from CBD) have the lowest average rent prices, averaging $325 per week.\n",
    "* Bar plots also shows Golden Point (1.5 hour from CBD) as top 3 lowest average rent prices, averaging $325 per week.\n",
    "* Heatmap shows affordable rental areas highly concentrated outside Melbourne CBD, in more rural areas. \n",
    "\n",
    "Explanation:\n",
    "* This supports how Byaduk North, Hamilton, and Golden Point are rural areas far from city centre and are the most affordable.\n",
    "* Less competition in suburb areas thus more affordable than city-centres, and attract families looking for affordable and larger homes for their children.\n",
    "* Potential for long-term returns since families may prefer cheaper rent with larger space.\n",
    "\n",
    "Link: \n",
    "* Investors: invest in Byaduk North, Hamilton, and Golden Point that offers the cheapest suburbs thus a more stable rental demand from low prices. \n",
    "* Renters: If prioritising family and budget-friendly home, they can rent in Byaduk North and Hamilton for a larger housing. "
   ]
  },
  {
   "cell_type": "code",
   "execution_count": 14,
   "metadata": {},
   "outputs": [
    {
     "data": {
      "text/html": [
       "<img src=\"../plots/bottom_20_suburbs_property_price.png\" height=\"500\"/>"
      ],
      "text/plain": [
       "<IPython.core.display.Image object>"
      ]
     },
     "execution_count": 14,
     "metadata": {},
     "output_type": "execute_result"
    }
   ],
   "source": [
    "Image(url='../plots/bottom_20_suburbs_property_price.png', height=500)"
   ]
  },
  {
   "cell_type": "code",
   "execution_count": 15,
   "metadata": {},
   "outputs": [
    {
     "data": {
      "text/html": [
       "<img src=\"../plots/reverse_property_price_heatmap.png\" width=\"700\" height=\"400\"/>"
      ],
      "text/plain": [
       "<IPython.core.display.Image object>"
      ]
     },
     "execution_count": 15,
     "metadata": {},
     "output_type": "execute_result"
    }
   ],
   "source": [
    "Image(url='../plots/reverse_property_price_heatmap.png', width=700, height=400)"
   ]
  }
 ],
 "metadata": {
  "kernelspec": {
   "display_name": "Python 3",
   "language": "python",
   "name": "python3"
  },
  "language_info": {
   "codemirror_mode": {
    "name": "ipython",
    "version": 3
   },
   "file_extension": ".py",
   "mimetype": "text/x-python",
   "name": "python",
   "nbconvert_exporter": "python",
   "pygments_lexer": "ipython3",
   "version": "3.10.12"
  }
 },
 "nbformat": 4,
 "nbformat_minor": 2
}
