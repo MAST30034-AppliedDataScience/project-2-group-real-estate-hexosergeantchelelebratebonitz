{
 "cells": [
  {
   "cell_type": "code",
   "execution_count": null,
   "metadata": {},
   "outputs": [],
   "source": []
  },
  {
   "cell_type": "markdown",
   "metadata": {},
   "source": [
    "# Shapefile download settings:\n",
    "* Obtained from: https://datashare.maps.vic.gov.au/order/configuration\n",
    "\n",
    "Download configurations are:\n",
    "* Projection : VicGrid on GDA2020\n",
    "* Buffer : 1km\n",
    "* File Format : ESRI Shape file\n",
    "* Area : Whole dataset"
   ]
  }
 ],
 "metadata": {
  "language_info": {
   "name": "python"
  }
 },
 "nbformat": 4,
 "nbformat_minor": 2
}
