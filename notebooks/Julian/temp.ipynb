{
 "cells": [
  {
   "cell_type": "markdown",
   "metadata": {},
   "source": [
    "# Scraping"
   ]
  },
  {
   "cell_type": "code",
   "execution_count": 6,
   "metadata": {},
   "outputs": [
    {
     "name": "stdout",
     "output_type": "stream",
     "text": [
      "{'name': '2/66 Melrose Street', 'address': '2/66 Melrose Street', 'locality': 'Mont Albert North', 'region': 'VIC', 'postalCode': '3129', 'startDate': '2024-08-28T15:30:00+10:00', 'endDate': '2024-08-28T15:45:00+10:00', 'url': 'https://www.realestate.com.au/property-townhouse-vic-mont+albert+north-439855432'}\n",
      "{'name': '60 Creekstone Drive', 'address': '60 Creekstone Drive', 'locality': 'Alfredton', 'region': 'VIC', 'postalCode': '3350', 'startDate': '2024-08-28T10:30:00+10:00', 'endDate': '2024-08-28T10:45:00+10:00', 'url': 'https://www.realestate.com.au/property-house-vic-alfredton-432396842'}\n",
      "{'name': '2 Konrad Street', 'address': '2 Konrad Street', 'locality': 'Bentleigh East', 'region': 'VIC', 'postalCode': '3165', 'startDate': '2024-08-27T15:45:00+10:00', 'endDate': '2024-08-27T16:00:00+10:00', 'url': 'https://www.realestate.com.au/property-house-vic-bentleigh+east-439855380'}\n",
      "{'name': '402/692 High Street', 'address': '402/692 High Street', 'locality': 'Thornbury', 'region': 'VIC', 'postalCode': '3071', 'startDate': '2024-08-31T10:35:00+10:00', 'endDate': '2024-08-31T10:50:00+10:00', 'url': 'https://www.realestate.com.au/property-apartment-vic-thornbury-430328330'}\n",
      "{'name': '3/372 Gaffney Street', 'address': '3/372 Gaffney Street', 'locality': 'Pascoe Vale', 'region': 'VIC', 'postalCode': '3044', 'startDate': '2024-08-31T12:45:00+10:00', 'endDate': '2024-08-31T13:00:00+10:00', 'url': 'https://www.realestate.com.au/property-townhouse-vic-pascoe+vale-427829258'}\n",
      "{'name': '28 Smoult Drive', 'address': '28 Smoult Drive', 'locality': 'Kurunjang', 'region': 'VIC', 'postalCode': '3337', 'startDate': '2024-08-31T11:30:00+10:00', 'endDate': '2024-08-31T23:45:00+10:00', 'url': 'https://www.realestate.com.au/property-house-vic-kurunjang-439957824'}\n",
      "{'name': '503/33 Mackenzie Street', 'address': '503/33 Mackenzie Street', 'locality': 'Melbourne', 'region': 'VIC', 'postalCode': '3000', 'startDate': '2024-08-28T14:30:00+10:00', 'endDate': '2024-08-28T14:45:00+10:00', 'url': 'https://www.realestate.com.au/property-apartment-vic-melbourne-439549476'}\n",
      "{'name': '4 Annecy Lane', 'address': '4 Annecy Lane', 'locality': 'Pakenham', 'region': 'VIC', 'postalCode': '3810', 'startDate': '2024-08-28T16:35:00+10:00', 'endDate': '2024-08-28T16:50:00+10:00', 'url': 'https://www.realestate.com.au/property-townhouse-vic-pakenham-439855324'}\n",
      "{'name': '54 Dutton Lane', 'address': '54 Dutton Lane', 'locality': 'Ascot Vale', 'region': 'VIC', 'postalCode': '3032', 'startDate': '2024-08-31T11:10:00+10:00', 'endDate': '2024-08-31T11:25:00+10:00', 'url': 'https://www.realestate.com.au/property-townhouse-vic-ascot+vale-439859780'}\n"
     ]
    }
   ],
   "source": [
    "import requests\n",
    "from bs4 import BeautifulSoup\n",
    "import json\n",
    "\n",
    "url_stem = 'https://www.realestate.com.au/rent/in-victoria/list-'\n",
    "page = '1'\n",
    "\n",
    "# response = requests.get(url_stem+page)\n",
    "\n",
    "# print(response.text)\n",
    "\n",
    "cookies = {\n",
    "    'reauid': '544ddc171b7c3c005c5ccd664b0300007b6a1500',\n",
    "    'Country': 'AU',\n",
    "    'KFC': 'fmncu5+KcP1pOo9ZGC987XEhRjbVyDpB8xokW7uVLak=',\n",
    "    'split_audience': 'e',\n",
    "    'AMCVS_341225BE55BBF7E17F000101%40AdobeOrg': '1',\n",
    "    'AMCV_341225BE55BBF7E17F000101%40AdobeOrg': '-330454231%7CMCIDTS%7C19963%7CMCMID%7C72701841124058717426584714290872596877%7CMCAID%7CNONE%7CMCOPTOUT-1724741760s%7CNONE%7CvVersion%7C3.1.2',\n",
    "    's_cc': 'true',\n",
    "    'VT_LANG': 'language%3Den-AU',\n",
    "    'mid': '2828928722498909534',\n",
    "    '_lr_geo_location_state': 'VIC',\n",
    "    '_lr_geo_location': 'AU',\n",
    "    'topid': 'REAUID:544DDC171B7C3C005C5CCD664B0300007B6A1500',\n",
    "    'KP_UIDz-ssn': '0ba9fpglbev2UIAHxkzT1MWt3G1EDEiiiKCvfPfP3bTuXFXHjKAlJoFMjPCykPtES0dZHXZz3taVEBzQNjdXaIfe0G8Vxh2fQDxfsZjpC3W5Ls7jXLnsWGOHffPCSBChRdlXvlgVzu8wNIJXnTje6rsJYtHeChFly1DJNad',\n",
    "    'KP_UIDz': '0ba9fpglbev2UIAHxkzT1MWt3G1EDEiiiKCvfPfP3bTuXFXHjKAlJoFMjPCykPtES0dZHXZz3taVEBzQNjdXaIfe0G8Vxh2fQDxfsZjpC3W5Ls7jXLnsWGOHffPCSBChRdlXvlgVzu8wNIJXnTje6rsJYtHeChFly1DJNad',\n",
    "    'pageview_counter.srs': '5',\n",
    "    's_nr30': '1724734914789-New',\n",
    "    'utag_main': 'v_id:01919230cfa500746dcadb930bdc05065001e05d00bd0$_sn:1$_se:15$_ss:0$_st:1724736714814$ses_id:1724734558117%3Bexp-session$_pn:4%3Bexp-session$vapi_domain:realestate.com.au$_prevpage:rea%3Arent%3Asearch%20result%20-%20list%3Bexp-1724738514817$dc_visit:1$dc_event:10%3Bexp-session',\n",
    "    's_sq': '%5B%5BB%5D%5D',\n",
    "}\n",
    "\n",
    "headers = {\n",
    "    'accept': 'text/html,application/xhtml+xml,application/xml;q=0.9,image/avif,image/webp,image/apng,*/*;q=0.8,application/signed-exchange;v=b3;q=0.7',\n",
    "    'accept-language': 'en-AU,en;q=0.9,it-IT;q=0.8,it;q=0.7,en-GB;q=0.6,en-US;q=0.5',\n",
    "    'cache-control': 'max-age=0',\n",
    "    'priority': 'u=0, i',\n",
    "    'referer': 'https://www.realestate.com.au/',\n",
    "    'sec-ch-ua': '\"Chromium\";v=\"128\", \"Not;A=Brand\";v=\"24\", \"Google Chrome\";v=\"128\"',\n",
    "    'sec-ch-ua-mobile': '?0',\n",
    "    'sec-ch-ua-platform': '\"Linux\"',\n",
    "    'sec-fetch-dest': 'document',\n",
    "    'sec-fetch-mode': 'navigate',\n",
    "    'sec-fetch-site': 'same-origin',\n",
    "    'sec-fetch-user': '?1',\n",
    "    'upgrade-insecure-requests': '1',\n",
    "    'user-agent': 'Mozilla/5.0 (X11; Linux x86_64) AppleWebKit/537.36 (KHTML, like Gecko) Chrome/128.0.0.0 Safari/537.36',\n",
    "}\n",
    "\n",
    "response = requests.get(url_stem+page, cookies=cookies, headers=headers)\n",
    "\n",
    "soup = BeautifulSoup(response.text, 'html.parser')\n",
    "\n",
    "# Extracting the JSON data embedded in the script tag\n",
    "json_data = None\n",
    "for script in soup.find_all('script', type='application/ld+json'):\n",
    "    try:\n",
    "        json_data = json.loads(script.string)\n",
    "        break  # Assuming we only need the first JSON found\n",
    "    except json.JSONDecodeError:\n",
    "        continue\n",
    "\n",
    "# Assuming json_data is a list of dictionaries with house details\n",
    "houses = []\n",
    "if json_data:\n",
    "    for item in json_data:\n",
    "        if item.get('@type') == 'Event':  # Filtering for house listings\n",
    "            house_details = {\n",
    "                'name': item['location']['name'],\n",
    "                'address': item['location']['address']['streetAddress'],\n",
    "                'locality': item['location']['address']['addressLocality'],\n",
    "                'region': item['location']['address']['addressRegion'],\n",
    "                'postalCode': item['location']['address']['postalCode'],\n",
    "                'startDate': item['startDate'],\n",
    "                'endDate': item['endDate'],\n",
    "                'url': item['url']\n",
    "            }\n",
    "            houses.append(house_details)\n",
    "\n",
    "# Print extracted data\n",
    "for house in houses:\n",
    "    print(house)"
   ]
  }
 ],
 "metadata": {
  "kernelspec": {
   "display_name": ".venv",
   "language": "python",
   "name": "python3"
  },
  "language_info": {
   "codemirror_mode": {
    "name": "ipython",
    "version": 3
   },
   "file_extension": ".py",
   "mimetype": "text/x-python",
   "name": "python",
   "nbconvert_exporter": "python",
   "pygments_lexer": "ipython3",
   "version": "3.12.5"
  }
 },
 "nbformat": 4,
 "nbformat_minor": 2
}
