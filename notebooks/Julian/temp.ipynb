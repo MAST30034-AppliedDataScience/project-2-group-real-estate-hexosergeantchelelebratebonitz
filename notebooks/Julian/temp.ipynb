{
 "cells": [
  {
   "cell_type": "markdown",
   "metadata": {},
   "source": [
    "# Scraping domain.com.au"
   ]
  },
  {
   "cell_type": "code",
   "execution_count": 1,
   "metadata": {},
   "outputs": [],
   "source": [
    "from seleniumwire import webdriver\n",
    "from bs4 import BeautifulSoup\n",
    "import os\n",
    "import json\n",
    "import requests\n",
    "import re"
   ]
  },
  {
   "cell_type": "code",
   "execution_count": 2,
   "metadata": {},
   "outputs": [],
   "source": [
    "# Fetch the webpage\n",
    "response = requests.get(\"https://postcodes-australia.com/state-postcodes/vic\")\n",
    "\n",
    "# Parse the HTML content using BeautifulSoup\n",
    "soup = BeautifulSoup(response.content, 'html.parser')\n",
    "\n",
    "# Extract all the text\n",
    "extracted_text = soup.get_text()\n",
    "\n",
    "# Define the regex pattern to extract postcodes and suburbs\n",
    "pattern = re.compile(r\"(\\d{4})\\s+([A-Za-z\\s\\n]+)\")\n",
    "\n",
    "matches = pattern.findall(extracted_text)\n",
    "\n",
    "# Initialize dictionary to store postcode to suburb mapping\n",
    "postcode_dict = {}\n",
    "\n",
    "# Populate the dictionary\n",
    "for match in matches:\n",
    "    postcode = int(match[0])\n",
    "    suburbs = match[1].strip().split('\\n')  # Split suburbs by newline character\n",
    "    suburbs = [suburb.strip() for suburb in suburbs if suburb]  # Clean up whitespace and remove empty strings\n",
    "    if postcode in postcode_dict:\n",
    "        postcode_dict[postcode].extend(suburbs)  # Add to existing list if postcode already exists\n",
    "    else:\n",
    "        postcode_dict[postcode] = suburbs  # Create new list of suburbs for postcode\n",
    "\n",
    "# Convert dictionary to JSON format\n",
    "with open(\"postcodes.json\", 'w') as f:\n",
    "    json.dump(postcode_dict, f, indent=4)"
   ]
  },
  {
   "cell_type": "markdown",
   "metadata": {},
   "source": [
    "## Listing URLs"
   ]
  },
  {
   "cell_type": "code",
   "execution_count": 3,
   "metadata": {},
   "outputs": [],
   "source": [
    "options = webdriver.ChromeOptions()\n",
    "options.add_argument('--headless')\n",
    "options.add_argument('--no-sandbox')\n",
    "options.add_argument('--disable-dev-shm-usage')\n",
    "\n",
    "def getUrls(suburb, postcode, page):\n",
    "    driver = webdriver.Chrome(seleniumwire_options={}, options=options)\n",
    "    # Go to the Domain listings page\n",
    "    driver.get(f'https://www.domain.com.au/rent/{suburb}-vic-{postcode}/?ssubs=0&sort=price-desc&page={page}')\n",
    "\n",
    "    page_source = driver.page_source\n",
    "\n",
    "    # Close the browser\n",
    "    driver.quit()\n",
    "\n",
    "    soup = BeautifulSoup(page_source, 'lxml')\n",
    "\n",
    "    listings = soup.find_all('a', class_='address')\n",
    "\n",
    "    return [listing['href'] for listing in listings]"
   ]
  },
  {
   "cell_type": "code",
   "execution_count": 6,
   "metadata": {},
   "outputs": [],
   "source": [
    "def scrape_postcode(postcode):\n",
    "\n",
    "    suburbs = postcode_dict[postcode]\n",
    "\n",
    "    print(\"Scraping postcode\", postcode)\n",
    "\n",
    "    if not os.path.exists('domain_urls.json'):\n",
    "        with open('domain_urls.json', 'w') as f:\n",
    "            f.write(\"{}\")\n",
    "\n",
    "    with open('domain_urls.json') as f:\n",
    "        data = json.load(f)\n",
    "    \n",
    "    data[postcode] = []\n",
    "\n",
    "    for suburb in suburbs:\n",
    "        for i in range(50):\n",
    "            try:\n",
    "                print(\"Scraping\", postcode, \"urls - page\", i+1, end=\"\\r\")\n",
    "                new_data = getUrls(suburb, postcode, i+1)\n",
    "                if not new_data:\n",
    "                    print(\"\\nNo data for page\", i+1,)\n",
    "                    break\n",
    "                data[postcode] += new_data\n",
    "                with open('domain_urls.json', 'w') as f:\n",
    "                    f.write(json.dumps(data, indent=4))\n",
    "            except:\n",
    "                break\n",
    "\n",
    "    print(f\"Done. Scraped {i} pages from {suburb}\")\n",
    "\n",
    "# EXAMPLE: scrape_postcode(3067)"
   ]
  },
  {
   "cell_type": "code",
   "execution_count": 8,
   "metadata": {},
   "outputs": [],
   "source": [
    "def scrape_listing_data(url):\n",
    "    # Initialize the WebDriver with ChromeOptions\n",
    "    driver = webdriver.Chrome(options=options, seleniumwire_options={})\n",
    "    \n",
    "    # Go to the listing page\n",
    "    driver.get(url)\n",
    "\n",
    "    # Get the page source\n",
    "    page_source = driver.page_source\n",
    "\n",
    "    # Close the browser\n",
    "    driver.quit()\n",
    "\n",
    "    # Parse the page source with BeautifulSoup\n",
    "    soup = BeautifulSoup(page_source, 'lxml')\n",
    "\n",
    "    # Find the script tag containing the digitalData\n",
    "    script_tag = soup.find('script', text=lambda text: text and 'digitalData' in text)\n",
    "    \n",
    "    # Extract the content of the script tag\n",
    "    script_content = script_tag.string\n",
    "\n",
    "    # Extract JSON data from the script content\n",
    "    json_data = script_content.split('var digitalData = ')[1].split(';')[0]\n",
    "    \n",
    "    # Parse JSON data\n",
    "    data = json.loads(json_data)\n",
    "\n",
    "    with open('listings.json') as f:\n",
    "        listings = json.load(f)\n",
    "    \n",
    "    listings[url] = data['page']['pageInfo']\n",
    "\n",
    "    with open('listings.json', 'w') as f:\n",
    "        f.write(json.dumps(listings, indent=4))\n",
    "\n",
    "\n",
    "    # print(\"DATA\\n\", json.dumps(data, indent=4), '\\n\\n\\n')\n",
    "\n",
    "    # # Extract relevant information\n",
    "    # property_info = data['page']['pageInfo']['property']\n",
    "    # listing_data = {\n",
    "    #     'address': property_info.get('address'),\n",
    "    #     'price': property_info.get('price'),\n",
    "    #     'bedrooms': property_info.get('bedrooms'),\n",
    "    #     'bathrooms': property_info.get('bathrooms'),\n",
    "    #     'agency': property_info.get('agency'),\n",
    "    #     'agent': property_info.get('agentNames'),\n",
    "    #     'images': property_info.get('images'),\n",
    "    #     'dateListed': property_info.get('dateListed'),\n",
    "    #     # Add more fields as needed\n",
    "    # }\n",
    "\n",
    "    # return listing_data\n",
    "\n",
    "# EXAMPLE: data = scrape_listing_data('https://www.domain.com.au/906-238-flinders-street-melbourne-vic-3000-14781843')"
   ]
  },
  {
   "cell_type": "markdown",
   "metadata": {},
   "source": [
    "## SCRAPE URLS FOR RENTAL PROPERTIES IN ALL OF VICTORIA"
   ]
  },
  {
   "cell_type": "code",
   "execution_count": 9,
   "metadata": {},
   "outputs": [
    {
     "name": "stdout",
     "output_type": "stream",
     "text": [
      "Scraping postcode 3000\n",
      "Scraping 3000 urls - page 4\r"
     ]
    },
    {
     "name": "stderr",
     "output_type": "stream",
     "text": [
      "/home/julianbonitz/.local/lib/python3.12/site-packages/seleniumwire/thirdparty/mitmproxy/server/server.py:142: RuntimeWarning: coroutine 'AddonManager.handle_lifecycle' was never awaited\n",
      "  self.log(traceback.format_exc(), \"error\")\n",
      "RuntimeWarning: Enable tracemalloc to get the object allocation traceback\n"
     ]
    },
    {
     "name": "stdout",
     "output_type": "stream",
     "text": [
      "Scraping 3000 urls - page 5\r"
     ]
    },
    {
     "name": "stderr",
     "output_type": "stream",
     "text": [
      "Exception ignored in: <function Reply.__del__ at 0x7af213594ea0>\n",
      "Traceback (most recent call last):\n",
      "  File \"/home/julianbonitz/.local/lib/python3.12/site-packages/seleniumwire/thirdparty/mitmproxy/controller.py\", line 132, in __del__\n",
      "    raise exceptions.ControlException(\"Uncommitted reply: %s\" % self.obj)\n",
      "seleniumwire.thirdparty.mitmproxy.exceptions.ControlException: Uncommitted reply: TlsLayer(inactive)\n"
     ]
    },
    {
     "name": "stdout",
     "output_type": "stream",
     "text": [
      "Scraping 3000 urls - page 23\r"
     ]
    },
    {
     "name": "stderr",
     "output_type": "stream",
     "text": [
      "Exception ignored in: <function Reply.__del__ at 0x7af213594ea0>\n",
      "Traceback (most recent call last):\n",
      "  File \"/home/julianbonitz/.local/lib/python3.12/site-packages/seleniumwire/thirdparty/mitmproxy/controller.py\", line 132, in __del__\n",
      "    raise exceptions.ControlException(\"Uncommitted reply: %s\" % self.obj)\n",
      "seleniumwire.thirdparty.mitmproxy.exceptions.ControlException: Uncommitted reply: TlsLayer(client and server)\n"
     ]
    },
    {
     "name": "stdout",
     "output_type": "stream",
     "text": [
      "Scraping 3000 urls - page 35\r"
     ]
    },
    {
     "name": "stderr",
     "output_type": "stream",
     "text": [
      "Exception ignored in: <function Reply.__del__ at 0x7af213594ea0>\n",
      "Traceback (most recent call last):\n",
      "  File \"/home/julianbonitz/.local/lib/python3.12/site-packages/seleniumwire/thirdparty/mitmproxy/controller.py\", line 132, in __del__\n",
      "    raise exceptions.ControlException(\"Uncommitted reply: %s\" % self.obj)\n",
      "seleniumwire.thirdparty.mitmproxy.exceptions.ControlException: Uncommitted reply: <HTTPFlow\n",
      "  request = Request(CONNECT sync-t1.taboola.com:443)\n",
      "  client_conn = <ClientConnection: 127.0.0.1:34402>\n",
      "  server_conn = <ServerConnection: <no address>>>\n"
     ]
    },
    {
     "name": "stdout",
     "output_type": "stream",
     "text": [
      "Scraping 3000 urls - page 46\n",
      "No data for page 46\n",
      "Done. Scraped 45 pages from Melbourne\n",
      "Scraping postcode 3001\n",
      "Scraping 3001 urls - page 1\n",
      "No data for page 1\n",
      "Done. Scraped 0 pages from Melbourne\n",
      "Scraping postcode 3002\n",
      "Scraping 3002 urls - page 1\n",
      "No data for page 1\n",
      "Done. Scraped 0 pages from East Melbourne\n",
      "Scraping postcode 3003\n",
      "Scraping 3003 urls - page 1\n",
      "No data for page 1\n",
      "Done. Scraped 0 pages from West Melbourne\n",
      "Scraping postcode 3004\n",
      "Scraping 3004 urls - page 6\n",
      "No data for page 6\n",
      "Done. Scraped 5 pages from Melbourne\n",
      "Scraping postcode 3005\n",
      "Scraping 3005 urls - page 1\n",
      "No data for page 1\n",
      "Done. Scraped 0 pages from World Trade Centre\n",
      "Scraping postcode 3006\n",
      "Scraping 3006 urls - page 1\r"
     ]
    },
    {
     "name": "stderr",
     "output_type": "stream",
     "text": [
      "Exception ignored in: <function Reply.__del__ at 0x7af213594ea0>\n",
      "Traceback (most recent call last):\n",
      "  File \"/home/julianbonitz/.local/lib/python3.12/site-packages/seleniumwire/thirdparty/mitmproxy/controller.py\", line 132, in __del__\n",
      "    raise exceptions.ControlException(\"Uncommitted reply: %s\" % self.obj)\n",
      "seleniumwire.thirdparty.mitmproxy.exceptions.ControlException: Uncommitted reply: <HTTPFlow\n",
      "  request = Request(CONNECT x.bidswitch.net:443)\n",
      "  client_conn = <ClientConnection: 127.0.0.1:58706>\n",
      "  server_conn = <ServerConnection: <no address>>>\n"
     ]
    },
    {
     "name": "stdout",
     "output_type": "stream",
     "text": [
      "Scraping 3006 urls - page 21\n",
      "No data for page 21\n",
      "Done. Scraped 20 pages from Southbank\n",
      "Scraping postcode 3008\n",
      "Scraping 3008 urls - page 11\n",
      "No data for page 11\n",
      "Done. Scraped 10 pages from Docklands\n",
      "Scraping postcode 3010\n",
      "Scraping 3010 urls - page 1\n",
      "No data for page 1\n",
      "Done. Scraped 0 pages from University Of Melbourne\n",
      "Scraping postcode 3011\n",
      "Scraping 3011 urls - page 9\n",
      "No data for page 9\n",
      "Scraping 3011 urls - page 2\n",
      "No data for page 2\n",
      "Done. Scraped 1 pages from Seddon\n",
      "Scraping postcode 3012\n",
      "Scraping 3012 urls - page 2\n",
      "No data for page 2\n",
      "Scraping 3012 urls - page 2\n",
      "No data for page 2\n",
      "Scraping 3012 urls - page 3\n",
      "No data for page 3\n",
      "Scraping 3012 urls - page 1\n",
      "No data for page 1\n",
      "Scraping 3012 urls - page 1\n",
      "No data for page 1\n",
      "Done. Scraped 0 pages from West Footscray\n",
      "Scraping postcode 3013\n",
      "Scraping 3013 urls - page 4\n",
      "No data for page 4\n",
      "Done. Scraped 3 pages from Yarraville\n",
      "Scraping postcode 3015\n",
      "Scraping 3015 urls - page 3\n",
      "No data for page 3\n",
      "Scraping 3015 urls - page 1\n",
      "No data for page 1\n",
      "Scraping 3015 urls - page 2\n",
      "No data for page 2\n",
      "Done. Scraped 1 pages from Spotswood\n",
      "Scraping postcode 3016\n",
      "Scraping 3016 urls - page 2\r"
     ]
    },
    {
     "name": "stderr",
     "output_type": "stream",
     "text": [
      "Exception ignored in: <function Reply.__del__ at 0x7af213594ea0>\n",
      "Traceback (most recent call last):\n",
      "  File \"/home/julianbonitz/.local/lib/python3.12/site-packages/seleniumwire/thirdparty/mitmproxy/controller.py\", line 132, in __del__\n",
      "    raise exceptions.ControlException(\"Uncommitted reply: %s\" % self.obj)\n",
      "seleniumwire.thirdparty.mitmproxy.exceptions.ControlException: Uncommitted reply: TlsLayer(client and server)\n"
     ]
    },
    {
     "name": "stdout",
     "output_type": "stream",
     "text": [
      "Scraping 3016 urls - page 4\n",
      "No data for page 4\n",
      "Scraping 3016 urls - page 1\n",
      "No data for page 1\n",
      "Done. Scraped 0 pages from Williamstown North\n",
      "Scraping postcode 3018\n",
      "Scraping 3018 urls - page 3\n",
      "No data for page 3\n",
      "Scraping 3018 urls - page 2\n",
      "No data for page 2\n",
      "Done. Scraped 1 pages from Seaholme\n",
      "Scraping postcode 3019\n",
      "Scraping 3019 urls - page 2\n",
      "No data for page 2\n",
      "Done. Scraped 1 pages from Braybrook\n",
      "Scraping postcode 3020\n",
      "Scraping 3020 urls - page 2\n",
      "No data for page 2\n",
      "Scraping 3020 urls - page 1\n",
      "No data for page 1\n",
      "Scraping 3020 urls - page 1\n",
      "No data for page 1\n",
      "Done. Scraped 0 pages from Sunshine West\n",
      "Scraping postcode 3021\n",
      "Scraping 3021 urls - page 2\n",
      "No data for page 2\n",
      "Scraping 3021 urls - page 2\n",
      "No data for page 2\n",
      "Scraping 3021 urls - page 1\n",
      "No data for page 1\n",
      "Scraping 3021 urls - page 1\n",
      "No data for page 1\n",
      "Done. Scraped 0 pages from St Albans\n",
      "Scraping postcode 3022\n",
      "Done. Scraped 0 pages from Ardeer\n",
      "Scraping postcode 3023\n",
      "Scraping 3023 urls - page 1\r"
     ]
    }
   ],
   "source": [
    "for postcode in postcode_dict.keys():\n",
    "    scrape_postcode(postcode)"
   ]
  },
  {
   "cell_type": "markdown",
   "metadata": {},
   "source": [
    "## Data from each listing"
   ]
  },
  {
   "cell_type": "code",
   "execution_count": null,
   "metadata": {},
   "outputs": [],
   "source": []
  },
  {
   "cell_type": "markdown",
   "metadata": {},
   "source": [
    "# Scraping realestate.com.au"
   ]
  },
  {
   "cell_type": "code",
   "execution_count": 75,
   "metadata": {},
   "outputs": [],
   "source": [
    "import requests\n",
    "from bs4 import BeautifulSoup\n",
    "import json\n",
    "from fake_useragent import UserAgent\n",
    "\n",
    "ua = UserAgent()\n",
    "\n",
    "url_stem = 'https://www.realestate.com.au/rent/in-victoria/list-'\n",
    "page = '1'\n",
    "\n",
    "cookies = {\n",
    "    # Extract the `list1` cURL request from Chrome Dev Tools\n",
    "    # -> Network @ https://www.realestate.com.au/rent/in-victoria/list-1\n",
    "    # Use https://curlconverter.com/ to retrieve this cookie session token\n",
    "    'KP_UIDz-ssn': '0CrCafki39X6xXWdV46WLyzxgC7g2k4zNGaNu4W9z1umOYQ7J4CdFuuwR7LgmrlOcV5QgUC9LxRCVorsvoh5aWvVTZ47dyB8fUkm8gdu0JQ9eKOCpH8REXxHVUIxBcPBSNCyaeNvzmqz95b5B4JV7OZtV8bmVcf27oPvwmac',\n",
    "}\n",
    "\n",
    "headers = {\n",
    "    # Similarly extract your user-agent header from the cURL request ^\n",
    "    'user-agent': 'Mozilla/5.0 (X11; Linux x86_64) AppleWebKit/537.36 (KHTML, like Gecko) Chrome/128.0.0.0 Safari/537.36',\n",
    "}\n",
    "\n",
    "def getPageOfRentals(page):\n",
    "    url = url_stem+str(page)\n",
    "    print(url, end='\\r')\n",
    "\n",
    "    response = requests.get(url, cookies=cookies, headers=headers)\n",
    "\n",
    "    soup = BeautifulSoup(response.text, 'html.parser')\n",
    "\n",
    "    # Extracting the JSON data embedded in the script tag\n",
    "    json_data = None\n",
    "    for script in soup.find_all('script', type='application/ld+json'):\n",
    "        try:\n",
    "            json_data = json.loads(script.string)\n",
    "            break  # Assuming we only need the first JSON found\n",
    "        except json.JSONDecodeError:\n",
    "            continue\n",
    "\n",
    "    # Assuming json_data is a list of dictionaries with house details\n",
    "    houses = []\n",
    "    if json_data:\n",
    "        for item in json_data:\n",
    "            if item.get('@type') == 'Event':  # Filtering for house listings\n",
    "                house_details = {\n",
    "                    'name': item['location']['name'],\n",
    "                    'address': item['location']['address']['streetAddress'],\n",
    "                    'locality': item['location']['address']['addressLocality'],\n",
    "                    'region': item['location']['address']['addressRegion'],\n",
    "                    'postalCode': item['location']['address']['postalCode'],\n",
    "                    'startDate': item['startDate'],\n",
    "                    'endDate': item['endDate'],\n",
    "                    'url': item['url']\n",
    "                }\n",
    "                houses.append(house_details)\n",
    "\n",
    "    return houses"
   ]
  },
  {
   "cell_type": "code",
   "execution_count": 96,
   "metadata": {},
   "outputs": [
    {
     "name": "stdout",
     "output_type": "stream",
     "text": [
      "https://www.realestate.com.au/rent/in-victoria/list-1\n",
      "[]\n"
     ]
    }
   ],
   "source": [
    "print(\n",
    "    getPageOfRentals(1)\n",
    ")"
   ]
  },
  {
   "cell_type": "code",
   "execution_count": 77,
   "metadata": {},
   "outputs": [
    {
     "name": "stdout",
     "output_type": "stream",
     "text": [
      "https://www.realestate.com.au/rent/in-victoria/list-53\n",
      "https://www.realestate.com.au/rent/in-victoria/list-54\n",
      "https://www.realestate.com.au/rent/in-victoria/list-55\n",
      "https://www.realestate.com.au/rent/in-victoria/list-56\n",
      "https://www.realestate.com.au/rent/in-victoria/list-57\n",
      "https://www.realestate.com.au/rent/in-victoria/list-58\n",
      "https://www.realestate.com.au/rent/in-victoria/list-59\n",
      "https://www.realestate.com.au/rent/in-victoria/list-60\n",
      "https://www.realestate.com.au/rent/in-victoria/list-61\n",
      "https://www.realestate.com.au/rent/in-victoria/list-62\n",
      "https://www.realestate.com.au/rent/in-victoria/list-63\n",
      "https://www.realestate.com.au/rent/in-victoria/list-64\n",
      "https://www.realestate.com.au/rent/in-victoria/list-65\n",
      "https://www.realestate.com.au/rent/in-victoria/list-66\n",
      "https://www.realestate.com.au/rent/in-victoria/list-67\n",
      "https://www.realestate.com.au/rent/in-victoria/list-68\n",
      "https://www.realestate.com.au/rent/in-victoria/list-69\n",
      "https://www.realestate.com.au/rent/in-victoria/list-70\n",
      "https://www.realestate.com.au/rent/in-victoria/list-71\n",
      "https://www.realestate.com.au/rent/in-victoria/list-72\n",
      "https://www.realestate.com.au/rent/in-victoria/list-73\n",
      "https://www.realestate.com.au/rent/in-victoria/list-74\n",
      "https://www.realestate.com.au/rent/in-victoria/list-75\n",
      "https://www.realestate.com.au/rent/in-victoria/list-76\n",
      "https://www.realestate.com.au/rent/in-victoria/list-77\n",
      "https://www.realestate.com.au/rent/in-victoria/list-78\n",
      "https://www.realestate.com.au/rent/in-victoria/list-79\n",
      "https://www.realestate.com.au/rent/in-victoria/list-80\n"
     ]
    }
   ],
   "source": [
    "pages = []\n",
    "\n",
    "i = 1\n",
    "\n",
    "for i in range(52, 80):\n",
    "    try:\n",
    "        new_page = getPageOfRentals(i+1)\n",
    "        if not new_page:\n",
    "            print(\"\\nEMPTY PAGE\",i+1)\n",
    "            break\n",
    "        pages.append(new_page)\n",
    "    except Exception as e:\n",
    "        print(\"\\nFAILED GET PAGE\", i+1, e)\n",
    "        break\n",
    "\n",
    "print(\"\\nDone\")"
   ]
  },
  {
   "cell_type": "code",
   "execution_count": 92,
   "metadata": {},
   "outputs": [],
   "source": [
    "# with open('saved_pages.json', 'w') as f:\n",
    "#     f.write(json.dumps(pages, indent=4))"
   ]
  },
  {
   "cell_type": "code",
   "execution_count": 95,
   "metadata": {},
   "outputs": [
    {
     "name": "stdout",
     "output_type": "stream",
     "text": [
      "['https://www.realestate.com.au/property-apartment-vic-doncaster-437896292', 'https://www.realestate.com.au/property-townhouse-vic-box+hill+south-439595188', 'https://www.realestate.com.au/property-house-vic-brunswick-439997368', 'https://www.realestate.com.au/property-house-vic-west+footscray-439997292', 'https://www.realestate.com.au/property-townhouse-vic-reservoir-439804068', 'https://www.realestate.com.au/property-townhouse-vic-reservoir-439804552', 'https://www.realestate.com.au/property-townhouse-vic-reservoir-439987380', 'https://www.realestate.com.au/property-house-vic-bundoora-439997180', 'https://www.realestate.com.au/property-apartment-vic-port+melbourne-439997152', 'https://www.realestate.com.au/property-townhouse-vic-thornhill+park-439997136', 'https://www.realestate.com.au/property-house-vic-wantirna-439997096', 'https://www.realestate.com.au/property-apartment-vic-box+hill-439997008', 'https://www.realestate.com.au/property-house-vic-northcote-439896100', 'https://www.realestate.com.au/property-apartment-vic-melbourne-439996892', 'https://www.realestate.com.au/property-house-vic-riddells+creek-439702664', 'https://www.realestate.com.au/property-apartment-vic-melbourne-439996824', 'https://www.realestate.com.au/property-house-vic-berwick-437047580', 'https://www.realestate.com.au/property-house-vic-bell+park-439996676', 'https://www.realestate.com.au/property-house-vic-epping-439996632', 'https://www.realestate.com.au/property-apartment-vic-yarraville-439996612', 'https://www.realestate.com.au/property-apartment-vic-elwood-439483452', 'https://www.realestate.com.au/property-apartment-vic-hughesdale-439754852', 'https://www.realestate.com.au/property-apartment-vic-melbourne-439996576', 'https://www.realestate.com.au/property-townhouse-vic-highton-436274076', 'https://www.realestate.com.au/property-apartment-vic-st+kilda-439996524', 'https://www.realestate.com.au/property-house-vic-burnside+heights-439996516', 'https://www.realestate.com.au/property-apartment-vic-hawthorn-439996460', 'https://www.realestate.com.au/property-house-vic-mickleham-439702296', 'https://www.realestate.com.au/property-apartment-vic-docklands-439996112', 'https://www.realestate.com.au/property-apartment-vic-hawthorn+east-439593828', 'https://www.realestate.com.au/property-house-vic-sunbury-439701948', 'https://www.realestate.com.au/property-apartment-vic-melbourne-439701888', 'https://www.realestate.com.au/property-house-vic-truganina-439995760', 'https://www.realestate.com.au/property-apartment-vic-carlton-439701716', 'https://www.realestate.com.au/property-house-vic-breakwater-439701596', 'https://www.realestate.com.au/property-house-vic-donnybrook-439820696', 'https://www.realestate.com.au/property-townhouse-vic-west+melbourne-439701532', 'https://www.realestate.com.au/property-house-vic-strathtulloh-439701476', 'https://www.realestate.com.au/property-townhouse-vic-elwood-439995072', 'https://www.realestate.com.au/property-apartment-vic-essendon-439701360', 'https://www.realestate.com.au/property-studio-vic-fitzroy-439593196', 'https://www.realestate.com.au/property-house-vic-richmond-439995340', 'https://www.realestate.com.au/property-unit-vic-glenroy-439267516', 'https://www.realestate.com.au/property-apartment-vic-balwyn-439995304', 'https://www.realestate.com.au/property-studio-vic-carlton-439995276', 'https://www.realestate.com.au/property-townhouse-vic-point+cook-439995256', 'https://www.realestate.com.au/property-house-vic-niddrie-439593072', 'https://www.realestate.com.au/property-apartment-vic-st+kilda+west-439995204', 'https://www.realestate.com.au/property-house-vic-moorabbin-439995164', 'https://www.realestate.com.au/property-apartment-vic-collingwood-439995028', 'https://www.realestate.com.au/property-house-vic-essendon-419207070', 'https://www.realestate.com.au/property-apartment-vic-coburg-439994956', 'https://www.realestate.com.au/property-unit-vic-highett-439921708', 'https://www.realestate.com.au/property-apartment-vic-bentleigh+east-439994856', 'https://www.realestate.com.au/property-unit-vic-bacchus+marsh-439994836', 'https://www.realestate.com.au/property-apartment-vic-elsternwick-439481820', 'https://www.realestate.com.au/property-house-vic-wyndham+vale-439994732', 'https://www.realestate.com.au/property-townhouse-vic-aintree-439944568', 'https://www.realestate.com.au/property-apartment-vic-hawthorn-439592520', 'https://www.realestate.com.au/property-apartment-vic-north+melbourne-439807984', 'https://www.realestate.com.au/property-apartment-vic-coburg-439994608', 'https://www.realestate.com.au/property-apartment-vic-abbotsford-439902612', 'https://www.realestate.com.au/property-unit-vic-werribee+south-439984060', 'https://www.realestate.com.au/property-house-vic-albert+park-439971068', 'https://www.realestate.com.au/property-apartment-vic-balaclava-439481580', 'https://www.realestate.com.au/property-house-vic-hoppers+crossing-439994468', 'https://www.realestate.com.au/property-house-vic-donnybrook-439994452', 'https://www.realestate.com.au/property-townhouse-vic-glen+waverley-439994436', 'https://www.realestate.com.au/property-apartment-vic-melbourne-439994420', 'https://www.realestate.com.au/property-apartment-vic-coburg-439994412', 'https://www.realestate.com.au/property-apartment-vic-melbourne-439481484', 'https://www.realestate.com.au/property-house-vic-cranbourne+north-434777995', 'https://www.realestate.com.au/property-studio-vic-south+yarra-439994392', 'https://www.realestate.com.au/property-house-vic-dandenong-439994388', 'https://www.realestate.com.au/property-house-vic-maddingley-434450479', 'https://www.realestate.com.au/property-apartment-vic-carlton-439994312', 'https://www.realestate.com.au/property-townhouse-vic-doncaster+east-439994284', 'https://www.realestate.com.au/property-apartment-vic-carlton-439373212', 'https://www.realestate.com.au/property-apartment-vic-coburg-439994256', 'https://www.realestate.com.au/property-house-vic-rosebud-436777772', 'https://www.realestate.com.au/property-apartment-vic-docklands-439993980', 'https://www.realestate.com.au/property-apartment-vic-melbourne-439592032', 'https://www.realestate.com.au/property-unit-vic-reservoir-439994108', 'https://www.realestate.com.au/property-house-vic-manor+lakes-439994056', 'https://www.realestate.com.au/property-apartment-vic-coburg-439994040', 'https://www.realestate.com.au/property-house-vic-charlemont-439591872', 'https://www.realestate.com.au/property-apartment-vic-south+yarra-436587088', 'https://www.realestate.com.au/property-house-vic-heidelberg+west-439993976', 'https://www.realestate.com.au/property-house-vic-camberwell-439993936', 'https://www.realestate.com.au/property-apartment-vic-ripponlea-435038607', 'https://www.realestate.com.au/property-house-vic-deanside-439993904', 'https://www.realestate.com.au/property-apartment-vic-coburg-439993812', 'https://www.realestate.com.au/property-studio-vic-laverton-439993632', 'https://www.realestate.com.au/property-house-vic-hawthorn+east-439480792', 'https://www.realestate.com.au/property-apartment-vic-coburg-439838088', 'https://www.realestate.com.au/property-apartment-vic-coburg-439885324', 'https://www.realestate.com.au/property-apartment-vic-coburg-439885388', 'https://www.realestate.com.au/property-townhouse-vic-richmond-439480684', 'https://www.realestate.com.au/property-house-vic-manor+lakes-439993496', 'https://www.realestate.com.au/property-house-vic-diggers+rest-439699804', 'https://www.realestate.com.au/property-house-vic-thornbury-439966764', 'https://www.realestate.com.au/property-apartment-vic-coburg-439993444', 'https://www.realestate.com.au/property-house-vic-kew-439699740', 'https://www.realestate.com.au/property-apartment-vic-melbourne-432188262', 'https://www.realestate.com.au/property-house-vic-burwood-439993376', 'https://www.realestate.com.au/property-apartment-vic-glen+iris-439993336', 'https://www.realestate.com.au/property-unit-vic-frankston-439993320', 'https://www.realestate.com.au/property-house-vic-fitzroy+north-439993316', 'https://www.realestate.com.au/property-unit-vic-pascoe+vale-439993216', 'https://www.realestate.com.au/property-townhouse-vic-port+melbourne-431060258', 'https://www.realestate.com.au/property-apartment-vic-coburg-439993144', 'https://www.realestate.com.au/property-townhouse-vic-st+kilda+west-439981304', 'https://www.realestate.com.au/property-house-vic-mernda-435668508', 'https://www.realestate.com.au/property-unit-vic-clayton-439993036', 'https://www.realestate.com.au/property-apartment-vic-melbourne-439993000', 'https://www.realestate.com.au/property-unit-vic-toorak-439992980', 'https://www.realestate.com.au/property-house-vic-narre+warren+south-439992952', 'https://www.realestate.com.au/property-house-vic-endeavour+hills-439992944', 'https://www.realestate.com.au/property-house-vic-glen+waverley-439992932', 'https://www.realestate.com.au/property-apartment-vic-strathmore-439764604', 'https://www.realestate.com.au/property-apartment-vic-melbourne-439590924', 'https://www.realestate.com.au/property-house-vic-point+cook-439992832', 'https://www.realestate.com.au/property-apartment-vic-box+hill-439992308', 'https://www.realestate.com.au/property-apartment-vic-melbourne-439992736', 'https://www.realestate.com.au/property-house-vic-greenvale-439946264', 'https://www.realestate.com.au/property-house-vic-seaford-439850272', 'https://www.realestate.com.au/property-apartment-vic-toorak-439992564', 'https://www.realestate.com.au/property-unit-vic-bonbeach-437444248', 'https://www.realestate.com.au/property-unit-vic-werribee-439992508', 'https://www.realestate.com.au/property-house-vic-gladstone+park-439939612', 'https://www.realestate.com.au/property-house-vic-greenvale-439938048', 'https://www.realestate.com.au/property-unit-vic-grovedale-439590580', 'https://www.realestate.com.au/property-unit-vic-bundoora-439992356', 'https://www.realestate.com.au/property-apartment-vic-carnegie-439992336', 'https://www.realestate.com.au/property-apartment-vic-southbank-439992300', 'https://www.realestate.com.au/property-apartment-vic-carlton-439698896', 'https://www.realestate.com.au/property-house-vic-flemington-439878184', 'https://www.realestate.com.au/property-house-vic-ringwood+east-439952844', 'https://www.realestate.com.au/property-apartment-vic-south+melbourne-420194126', 'https://www.realestate.com.au/property-unit-vic-mitcham-439992216', 'https://www.realestate.com.au/property-apartment-vic-melbourne-439992200', 'https://www.realestate.com.au/property-house-vic-surrey+hills-439992144', 'https://www.realestate.com.au/property-house-vic-beaumaris-439992112', 'https://www.realestate.com.au/property-other-vic-diggers+rest-439991872', 'https://www.realestate.com.au/property-townhouse-vic-seddon-439991984', 'https://www.realestate.com.au/property-apartment-vic-richmond-439991928', 'https://www.realestate.com.au/property-house-vic-reservoir-437042400', 'https://www.realestate.com.au/property-house-vic-wantirna-439991864', 'https://www.realestate.com.au/property-apartment-vic-glen+iris-439589972', 'https://www.realestate.com.au/property-house-vic-truganina-439991828', 'https://www.realestate.com.au/property-house-vic-strathfieldsaye-439991816', 'https://www.realestate.com.au/property-apartment-vic-ripponlea-439991788', 'https://www.realestate.com.au/property-house-vic-manor+lakes-439769956', 'https://www.realestate.com.au/property-apartment-vic-fitzroy-439617084', 'https://www.realestate.com.au/property-house-vic-keilor+downs-436229364', 'https://www.realestate.com.au/property-townhouse-vic-blackburn-439991104', 'https://www.realestate.com.au/property-house-vic-manor+lakes-439769924', 'https://www.realestate.com.au/property-house-vic-officer-439991696', 'https://www.realestate.com.au/property-townhouse-vic-bellfield-439991660', 'https://www.realestate.com.au/property-unit-vic-melbourne-434489687', 'https://www.realestate.com.au/property-unit-vic-huntingdale-439991620', 'https://www.realestate.com.au/property-house-vic-fitzroy-439589504', 'https://www.realestate.com.au/property-house-vic-newtown-439991500', 'https://www.realestate.com.au/property-unit-vic-norlane-439991476', 'https://www.realestate.com.au/property-house-vic-murrumbeena-439989760', 'https://www.realestate.com.au/property-apartment-vic-elwood-439991352', 'https://www.realestate.com.au/property-house-vic-carrum+downs-439589272', 'https://www.realestate.com.au/property-townhouse-vic-preston-439991296', 'https://www.realestate.com.au/property-house-vic-tarneit-439953616', 'https://www.realestate.com.au/property-house-vic-berwick-439991044', 'https://www.realestate.com.au/property-unit-vic-mentone-439991000', 'https://www.realestate.com.au/property-house-vic-fraser+rise-432236322', 'https://www.realestate.com.au/property-apartment-vic-south+yarra-421141730', 'https://www.realestate.com.au/property-apartment-vic-richmond-439989664', 'https://www.realestate.com.au/property-apartment-vic-melbourne-439942800', 'https://www.realestate.com.au/property-house-vic-footscray-439990784', 'https://www.realestate.com.au/property-apartment-vic-south+melbourne-439990780', 'https://www.realestate.com.au/property-house-vic-wyndham+vale-439990772', 'https://www.realestate.com.au/property-unit-vic-maryborough-439990736', 'https://www.realestate.com.au/property-house-vic-craigieburn-439990724', 'https://www.realestate.com.au/property-house-vic-craigieburn-439990668', 'https://www.realestate.com.au/property-apartment-vic-kooyong-439990648', 'https://www.realestate.com.au/property-house-vic-box+hill-439697628', 'https://www.realestate.com.au/property-apartment-vic-hawthorn-439990636', 'https://www.realestate.com.au/property-house-vic-mount+eliza-439895892', 'https://www.realestate.com.au/property-house-vic-brighton-439477700', 'https://www.realestate.com.au/property-apartment-vic-eltham-439990416', 'https://www.realestate.com.au/property-townhouse-vic-yarraville-439697336', 'https://www.realestate.com.au/property-apartment-vic-hawthorn+east-439895872', 'https://www.realestate.com.au/property-apartment-vic-west+melbourne-439990352', 'https://www.realestate.com.au/property-unit-vic-dandenong+north-439990348', 'https://www.realestate.com.au/property-house-vic-mooroolbark-436929968', 'https://www.realestate.com.au/property-house-vic-bonnie+brook-439990312', 'https://www.realestate.com.au/property-apartment-vic-brunswick+west-439990300', 'https://www.realestate.com.au/property-townhouse-vic-bayswater-439990284', 'https://www.realestate.com.au/property-townhouse-vic-bentleigh+east-439990148', 'https://www.realestate.com.au/property-apartment-vic-melbourne-439990132', 'https://www.realestate.com.au/property-house-vic-broadford-439990024', 'https://www.realestate.com.au/property-apartment-vic-essendon-439587900', 'https://www.realestate.com.au/property-apartment-vic-fitzroy-439989948', 'https://www.realestate.com.au/property-house-vic-clyde-439989936', 'https://www.realestate.com.au/property-house-vic-wyndham+vale-439989904', 'https://www.realestate.com.au/property-apartment-vic-cairnlea-439989844', 'https://www.realestate.com.au/property-house-vic-donvale-439989816', 'https://www.realestate.com.au/property-unit-vic-doncaster-431393394', 'https://www.realestate.com.au/property-house-vic-mont+albert+north-439989776', 'https://www.realestate.com.au/property-apartment-vic-glen+iris-439989640', 'https://www.realestate.com.au/property-house-vic-croydon-439989260', 'https://www.realestate.com.au/property-house-vic-clifton+hill-439989552', 'https://www.realestate.com.au/property-unit-vic-daylesford-439261240', 'https://www.realestate.com.au/property-house-vic-rosebud-439989528', 'https://www.realestate.com.au/property-house-vic-wyndham+vale-439944764', 'https://www.realestate.com.au/property-townhouse-vic-frankston-439587332', 'https://www.realestate.com.au/property-apartment-vic-highett-439989440', 'https://www.realestate.com.au/property-townhouse-vic-preston-439989416', 'https://www.realestate.com.au/property-apartment-vic-prahran-429495702', 'https://www.realestate.com.au/property-townhouse-vic-caulfield+north-439696304', 'https://www.realestate.com.au/property-house-vic-ocean+grove-439696116', 'https://www.realestate.com.au/property-apartment-vic-melbourne-439696096', 'https://www.realestate.com.au/property-apartment-vic-malvern-416283229', 'https://www.realestate.com.au/property-house-vic-rowville-439989016', 'https://www.realestate.com.au/property-house-vic-mernda-439989012', 'https://www.realestate.com.au/property-apartment-vic-ormond-439989000', 'https://www.realestate.com.au/property-house-vic-sunshine-425137238', 'https://www.realestate.com.au/property-apartment-vic-south+melbourne-439988980', 'https://www.realestate.com.au/property-apartment-vic-south+melbourne-439695952', 'https://www.realestate.com.au/property-apartment-vic-melbourne-439988944', 'https://www.realestate.com.au/property-house-vic-beveridge-439988940', 'https://www.realestate.com.au/property-house-vic-mount+martha-439988916', 'https://www.realestate.com.au/property-house-vic-doncaster-433419442', 'https://www.realestate.com.au/property-unit-vic-noble+park-436315140', 'https://www.realestate.com.au/property-apartment-vic-southbank-439988524', 'https://www.realestate.com.au/property-apartment-vic-murrumbeena-439988744', 'https://www.realestate.com.au/property-townhouse-vic-caroline+springs-439988740', 'https://www.realestate.com.au/property-unit-vic-glen+iris-439988736', 'https://www.realestate.com.au/property-apartment-vic-southbank-439695580', 'https://www.realestate.com.au/property-apartment-vic-st+kilda-439988712', 'https://www.realestate.com.au/property-apartment-vic-north+melbourne-439988688', 'https://www.realestate.com.au/property-townhouse-vic-macleod-439695468', 'https://www.realestate.com.au/property-house-vic-mill+park-439943148', 'https://www.realestate.com.au/property-apartment-vic-brunswick+west-431276926', 'https://www.realestate.com.au/property-apartment-vic-north+melbourne-439988592', 'https://www.realestate.com.au/property-apartment-vic-melbourne-439750060', 'https://www.realestate.com.au/property-house-vic-soldiers+hill-439988576', 'https://www.realestate.com.au/property-apartment-vic-st+kilda-439988564', 'https://www.realestate.com.au/property-studio-vic-melbourne-439988552', 'https://www.realestate.com.au/property-house-vic-mickleham-439951656', 'https://www.realestate.com.au/property-house-vic-mickleham-439951424', 'https://www.realestate.com.au/property-apartment-vic-ivanhoe-439988540', 'https://www.realestate.com.au/property-house-vic-mambourin-439788224', 'https://www.realestate.com.au/property-house-vic-richmond-439988448', 'https://www.realestate.com.au/property-house-vic-mount+waverley-439683380', 'https://www.realestate.com.au/property-apartment-vic-south+yarra-439695188', 'https://www.realestate.com.au/property-unit-vic-carrum-439988380', 'https://www.realestate.com.au/property-house-vic-ashwood-439988344', 'https://www.realestate.com.au/property-house-vic-kew-439988208', 'https://www.realestate.com.au/property-apartment-vic-windsor-439988088', 'https://www.realestate.com.au/property-house-vic-clyde+north-439694792', 'https://www.realestate.com.au/property-house-vic-preston-439988036', 'https://www.realestate.com.au/property-house-vic-fraser+rise-439798724', 'https://www.realestate.com.au/property-house-vic-boronia-439912652', 'https://www.realestate.com.au/property-house-vic-berwick-439987904', 'https://www.realestate.com.au/property-townhouse-vic-edithvale-439987880', 'https://www.realestate.com.au/property-house-vic-truganina-435508747', 'https://www.realestate.com.au/property-house-vic-truganina-437034532', 'https://www.realestate.com.au/property-house-vic-tarneit-432657566', 'https://www.realestate.com.au/property-house-vic-tarneit-435746220', 'https://www.realestate.com.au/property-house-vic-bonnie+brook-436165316', 'https://www.realestate.com.au/property-house-vic-tarneit-439987872', 'https://www.realestate.com.au/property-house-vic-tarneit-439987868', 'https://www.realestate.com.au/property-house-vic-wodonga-439987844', 'https://www.realestate.com.au/property-townhouse-vic-coburg-439987776', 'https://www.realestate.com.au/property-house-vic-donnybrook-439987716', 'https://www.realestate.com.au/property-apartment-vic-melbourne-439798324', 'https://www.realestate.com.au/property-townhouse-vic-maidstone-439846360', 'https://www.realestate.com.au/property-apartment-vic-glen+waverley-439798184', 'https://www.realestate.com.au/property-house-vic-beveridge-439987700', 'https://www.realestate.com.au/property-house-vic-doncaster+east-439694068', 'https://www.realestate.com.au/property-apartment-vic-southbank-439798060', 'https://www.realestate.com.au/property-townhouse-vic-black+rock-439987692', 'https://www.realestate.com.au/property-apartment-vic-doncaster+east-439797856', 'https://www.realestate.com.au/property-apartment-vic-fitzroy+north-439797848', 'https://www.realestate.com.au/property-house-vic-huntly-439797840', 'https://www.realestate.com.au/property-house-vic-moonee+ponds-439693728', 'https://www.realestate.com.au/property-townhouse-vic-keilor+east-439693656', 'https://www.realestate.com.au/property-apartment-vic-southbank-439364916', 'https://www.realestate.com.au/property-house-vic-mill+park-439693636', 'https://www.realestate.com.au/property-apartment-vic-south+yarra-439797648', 'https://www.realestate.com.au/property-apartment-vic-essendon+north-439797604', 'https://www.realestate.com.au/property-apartment-vic-melbourne-431779194', 'https://www.realestate.com.au/property-unit-vic-seaford-439693276', 'https://www.realestate.com.au/property-apartment-vic-melbourne-439692828', 'https://www.realestate.com.au/property-house-vic-prahran-439693204', 'https://www.realestate.com.au/property-house-vic-mordialloc-439797168', 'https://www.realestate.com.au/property-apartment-vic-southbank-431711922', 'https://www.realestate.com.au/property-apartment-vic-docklands-439792752', 'https://www.realestate.com.au/property-townhouse-vic-donvale-439797028', 'https://www.realestate.com.au/property-apartment-vic-prahran-416938974', 'https://www.realestate.com.au/property-house-vic-winter+valley-435625664', 'https://www.realestate.com.au/property-apartment-vic-melbourne-439796812', 'https://www.realestate.com.au/property-apartment-vic-melbourne-439796804', 'https://www.realestate.com.au/property-house-vic-brighton-439472160', 'https://www.realestate.com.au/property-house-vic-malvern+east-439066660', 'https://www.realestate.com.au/property-house-vic-kalkallo-437957124', 'https://www.realestate.com.au/property-townhouse-vic-ascot+vale-439583076', 'https://www.realestate.com.au/property-apartment-vic-south+yarra-438770972', 'https://www.realestate.com.au/property-house-vic-croydon-439692404', 'https://www.realestate.com.au/property-townhouse-vic-roxburgh+park-439796324', 'https://www.realestate.com.au/property-apartment-vic-southbank-431772690', 'https://www.realestate.com.au/property-apartment-vic-box+hill-439582620', 'https://www.realestate.com.au/property-apartment-vic-brunswick+west-439796172', 'https://www.realestate.com.au/property-house-vic-mitcham-439795972', 'https://www.realestate.com.au/property-apartment-vic-richmond-439363104', 'https://www.realestate.com.au/property-apartment-vic-avondale+heights-413336247', 'https://www.realestate.com.au/property-apartment-vic-doncaster+east-439691824', 'https://www.realestate.com.au/property-house-vic-doncaster-439471332', 'https://www.realestate.com.au/property-apartment-vic-southbank-439582156', 'https://www.realestate.com.au/property-apartment-vic-southbank-439582140', 'https://www.realestate.com.au/property-apartment-vic-melbourne-439582104', 'https://www.realestate.com.au/property-apartment-vic-south+melbourne-435690232', 'https://www.realestate.com.au/property-townhouse-vic-yarraville-439795440', 'https://www.realestate.com.au/property-house-vic-altona+meadows-439795016', 'https://www.realestate.com.au/property-apartment-vic-armadale-439691028', 'https://www.realestate.com.au/property-house-vic-armstrong+creek-439794800', 'https://www.realestate.com.au/property-house-vic-hampton+park-439794788', 'https://www.realestate.com.au/property-house-vic-ivanhoe-439794752', 'https://www.realestate.com.au/property-apartment-vic-melbourne-439361652', 'https://www.realestate.com.au/property-apartment-vic-hughesdale-439794500', 'https://www.realestate.com.au/property-unit-vic-fawkner-439794492', 'https://www.realestate.com.au/property-apartment-vic-melbourne-439794228', 'https://www.realestate.com.au/property-house-vic-glen+waverley-439794028', 'https://www.realestate.com.au/property-apartment-vic-west+melbourne-436060032', 'https://www.realestate.com.au/property-house-vic-camberwell-439793692', 'https://www.realestate.com.au/property-townhouse-vic-sunbury-439690012', 'https://www.realestate.com.au/property-house-vic-gladstone+park-439793552', 'https://www.realestate.com.au/property-house-vic-glen+waverley-436424364', 'https://www.realestate.com.au/property-house-vic-greenvale-439580056', 'https://www.realestate.com.au/property-house-vic-drouin+east-439793436', 'https://www.realestate.com.au/property-townhouse-vic-south+kingsville-439689844', 'https://www.realestate.com.au/property-apartment-vic-camberwell-439580024', 'https://www.realestate.com.au/property-apartment-vic-north+melbourne-439580004', 'https://www.realestate.com.au/property-apartment-vic-melbourne-439468796', 'https://www.realestate.com.au/property-apartment-vic-melbourne-439468780', 'https://www.realestate.com.au/property-flat-vic-windsor-439579928', 'https://www.realestate.com.au/property-apartment-vic-melbourne-439787340', 'https://www.realestate.com.au/property-apartment-vic-melbourne-439579668', 'https://www.realestate.com.au/property-house-vic-clayton+south-439468396', 'https://www.realestate.com.au/property-house-vic-burwood-439793004', 'https://www.realestate.com.au/property-townhouse-vic-strathmore-439792900', 'https://www.realestate.com.au/property-apartment-vic-parkville-439689056', 'https://www.realestate.com.au/property-house-vic-albion-439792740', 'https://www.realestate.com.au/property-townhouse-vic-edithvale-438956864', 'https://www.realestate.com.au/property-house-vic-wyndham+vale-439792572', 'https://www.realestate.com.au/property-apartment-vic-st+kilda-439578812', 'https://www.realestate.com.au/property-apartment-vic-moorabbin-439062980', 'https://www.realestate.com.au/property-house-vic-templestowe+lower-438869484', 'https://www.realestate.com.au/property-apartment-vic-docklands-423930010', 'https://www.realestate.com.au/property-house-vic-mickleham-432217046', 'https://www.realestate.com.au/property-unit-vic-eaglemont-439792128', 'https://www.realestate.com.au/property-apartment-vic-southbank-439792044', 'https://www.realestate.com.au/property-house-vic-yarraville-439358584', 'https://www.realestate.com.au/property-apartment-vic-ivanhoe-439969760', 'https://www.realestate.com.au/property-house-vic-mickleham-439895316', 'https://www.realestate.com.au/property-apartment-vic-footscray-439791716', 'https://www.realestate.com.au/property-apartment-vic-southbank-439791676', 'https://www.realestate.com.au/property-apartment-vic-hawthorn+east-439791672', 'https://www.realestate.com.au/property-unit-vic-geelong+west-439687948', 'https://www.realestate.com.au/property-apartment-vic-south+yarra-439577804', 'https://www.realestate.com.au/property-house-vic-berwick-439791368', 'https://www.realestate.com.au/property-apartment-vic-carnegie-436865248', 'https://www.realestate.com.au/property-house-vic-glen+iris-439466176', 'https://www.realestate.com.au/property-house-vic-hamlyn+heights-439791188', 'https://www.realestate.com.au/property-townhouse-vic-reservoir-439577356', 'https://www.realestate.com.au/property-apartment-vic-collingwood-439466140', 'https://www.realestate.com.au/property-house-vic-epping-438955380', 'https://www.realestate.com.au/property-apartment-vic-burwood+east-439790976', 'https://www.realestate.com.au/property-apartment-vic-melbourne-439687296', 'https://www.realestate.com.au/property-house-vic-blackburn-439790872', 'https://www.realestate.com.au/property-apartment-vic-south+yarra-439790836', 'https://www.realestate.com.au/property-townhouse-vic-taylors+hill-436276832', 'https://www.realestate.com.au/property-unit-vic-templestowe-439790672', 'https://www.realestate.com.au/property-unit-vic-pascoe+vale-439790500', 'https://www.realestate.com.au/property-apartment-vic-st+kilda-439686688', 'https://www.realestate.com.au/property-townhouse-vic-abbotsford-439680744', 'https://www.realestate.com.au/property-house-vic-sydenham-439686552', 'https://www.realestate.com.au/property-townhouse-vic-epping-439686512', 'https://www.realestate.com.au/property-apartment-vic-glen+waverley-439782728', 'https://www.realestate.com.au/property-studio-vic-melbourne-438764404', 'https://www.realestate.com.au/property-house-vic-croydon+north-435125859', 'https://www.realestate.com.au/property-apartment-vic-hadfield-439778504', 'https://www.realestate.com.au/property-apartment-vic-preston-439789944', 'https://www.realestate.com.au/property-house-vic-newcomb-435651672', 'https://www.realestate.com.au/property-house-vic-burwood+east-439789924', 'https://www.realestate.com.au/property-apartment-vic-fairfield-439686064', 'https://www.realestate.com.au/property-townhouse-vic-balwyn+north-439575640', 'https://www.realestate.com.au/property-house-vic-melton+west-439685856', 'https://www.realestate.com.au/property-apartment-vic-port+melbourne-439685848', 'https://www.realestate.com.au/property-apartment-vic-southbank-439789580', 'https://www.realestate.com.au/property-house-vic-thornhill+park-439895072', 'https://www.realestate.com.au/property-house-vic-st+kilda+east-439895032', 'https://www.realestate.com.au/property-apartment-vic-fairfield-439686064', 'https://www.realestate.com.au/property-townhouse-vic-balwyn+north-439575640', 'https://www.realestate.com.au/property-house-vic-melton+west-439685856', 'https://www.realestate.com.au/property-apartment-vic-port+melbourne-439685848', 'https://www.realestate.com.au/property-apartment-vic-southbank-439789580', 'https://www.realestate.com.au/property-house-vic-thornhill+park-439895072', 'https://www.realestate.com.au/property-house-vic-st+kilda+east-439895032', 'https://www.realestate.com.au/property-townhouse-vic-sunshine+west-439789276', 'https://www.realestate.com.au/property-unit-vic-st+albans-439789264', 'https://www.realestate.com.au/property-apartment-vic-docklands-435316547', 'https://www.realestate.com.au/property-house-vic-ringwood-439789144', 'https://www.realestate.com.au/property-house-vic-point+cook-437004340', 'https://www.realestate.com.au/property-house-vic-tarneit-439258752', 'https://www.realestate.com.au/property-apartment-vic-kew-439684944', 'https://www.realestate.com.au/property-apartment-vic-docklands-422555682', 'https://www.realestate.com.au/property-apartment-vic-doncaster-439788584', 'https://www.realestate.com.au/property-townhouse-vic-toorak-439684664', 'https://www.realestate.com.au/property-unit-vic-strathmore-439894448', 'https://www.realestate.com.au/property-townhouse-vic-thornbury-439684712', 'https://www.realestate.com.au/property-house-vic-keysborough-439894364', 'https://www.realestate.com.au/property-apartment-vic-armadale-439894296', 'https://www.realestate.com.au/property-townhouse-vic-mckinnon-439158868', 'https://www.realestate.com.au/property-house-vic-fitzroy+north-439788376', 'https://www.realestate.com.au/property-townhouse-vic-highett-439462832', 'https://www.realestate.com.au/property-townhouse-vic-greenvale-439894252', 'https://www.realestate.com.au/property-house-vic-doncaster+east-439788292', 'https://www.realestate.com.au/property-apartment-vic-bentleigh+east-439894168', 'https://www.realestate.com.au/property-house-vic-bell+park-436149972', 'https://www.realestate.com.au/property-apartment-vic-docklands-439788220', 'https://www.realestate.com.au/property-house-vic-burwood-431013654', 'https://www.realestate.com.au/property-house-vic-truganina-439893884', 'https://www.realestate.com.au/property-house-vic-lara-439788064', 'https://www.realestate.com.au/property-house-vic-winter+valley-439893808', 'https://www.realestate.com.au/property-apartment-vic-spotswood-439058536', 'https://www.realestate.com.au/property-house-vic-carlton-439893736', 'https://www.realestate.com.au/property-apartment-vic-balwyn-439893724', 'https://www.realestate.com.au/property-house-vic-malvern-432343050', 'https://www.realestate.com.au/property-house-vic-mooroolbark-436654504', 'https://www.realestate.com.au/property-apartment-vic-spotswood-439058392', 'https://www.realestate.com.au/property-unit-vic-cranbourne-439893632', 'https://www.realestate.com.au/property-apartment-vic-st+kilda-439893544', 'https://www.realestate.com.au/property-apartment-vic-melbourne-439787692', 'https://www.realestate.com.au/property-townhouse-vic-spotswood-439683608', 'https://www.realestate.com.au/property-apartment-vic-south+yarra-439893296', 'https://www.realestate.com.au/property-apartment-vic-carlton-431629794', 'https://www.realestate.com.au/property-apartment-vic-south+yarra-439892908', 'https://www.realestate.com.au/property-apartment-vic-docklands-439157472', 'https://www.realestate.com.au/property-house-vic-indented+head-439683436', 'https://www.realestate.com.au/property-apartment-vic-st+kilda-439893172', 'https://www.realestate.com.au/property-apartment-vic-balwyn+north-439893156', 'https://www.realestate.com.au/property-house-vic-carnegie-436333168', 'https://www.realestate.com.au/property-house-vic-point+cook-439893072', 'https://www.realestate.com.au/property-apartment-vic-st+kilda-439893044', 'https://www.realestate.com.au/property-unit-vic-macleod-433002102', 'https://www.realestate.com.au/property-townhouse-vic-epping-439893008', 'https://www.realestate.com.au/property-house-vic-officer-439892388', 'https://www.realestate.com.au/property-apartment-vic-caulfield+north-439786956', 'https://www.realestate.com.au/property-house-vic-belmont-439786908', 'https://www.realestate.com.au/property-apartment-vic-camberwell-438760924', 'https://www.realestate.com.au/property-villa-vic-dingley+village-439572204', 'https://www.realestate.com.au/property-house-vic-thornbury-439892520', 'https://www.realestate.com.au/property-unit-vic-ringwood+east-439892512', 'https://www.realestate.com.au/property-apartment-vic-caulfield+north-439892508', 'https://www.realestate.com.au/property-flat-vic-brunswick-439892480', 'https://www.realestate.com.au/property-house-vic-watsonia+north-433450342', 'https://www.realestate.com.au/property-apartment-vic-melbourne-439892308', 'https://www.realestate.com.au/property-house-vic-altona-435221659', 'https://www.realestate.com.au/property-house-vic-west+footscray-439892260', 'https://www.realestate.com.au/property-house-vic-croydon-439892196', 'https://www.realestate.com.au/property-house-vic-donnybrook-434142499', 'https://www.realestate.com.au/property-townhouse-vic-heidelberg+heights-439786500', 'https://www.realestate.com.au/property-townhouse-vic-doncaster+east-439892064', 'https://www.realestate.com.au/property-townhouse-vic-brunswick+east-439892060', 'https://www.realestate.com.au/property-apartment-vic-newport-439891980', 'https://www.realestate.com.au/property-townhouse-vic-box+hill-439786412', 'https://www.realestate.com.au/property-apartment-vic-st+kilda-439786364', 'https://www.realestate.com.au/property-unit-vic-box+hill-439571548', 'https://www.realestate.com.au/property-house-vic-hoppers+crossing-439891864', 'https://www.realestate.com.au/property-apartment-vic-docklands-419066286', 'https://www.realestate.com.au/property-apartment-vic-st+kilda-439891752', 'https://www.realestate.com.au/property-apartment-vic-northcote-428094290', 'https://www.realestate.com.au/property-house-vic-pakenham-439786092', 'https://www.realestate.com.au/property-apartment-vic-melbourne-431926182', 'https://www.realestate.com.au/property-townhouse-vic-brighton-439782780', 'https://www.realestate.com.au/property-apartment-vic-carlton-439891336', 'https://www.realestate.com.au/property-house-vic-mount+waverley-439785888', 'https://www.realestate.com.au/property-house-vic-frankston+north-439891384', 'https://www.realestate.com.au/property-apartment-vic-kew-439785744', 'https://www.realestate.com.au/property-apartment-vic-melbourne-439681516', 'https://www.realestate.com.au/property-house-vic-fraser+rise-439785660', 'https://www.realestate.com.au/property-house-vic-cranbourne+west-439891240', 'https://www.realestate.com.au/property-apartment-vic-melbourne-439891232', 'https://www.realestate.com.au/property-house-vic-rye-439155440', 'https://www.realestate.com.au/property-house-vic-belgrave-439891224', 'https://www.realestate.com.au/property-apartment-vic-essendon-439891040', 'https://www.realestate.com.au/property-townhouse-vic-williamstown+north-439681160', 'https://www.realestate.com.au/property-house-vic-doncaster+east-439681096', 'https://www.realestate.com.au/property-house-vic-pakenham-439785304', 'https://www.realestate.com.au/property-house-vic-doncaster-439785300', 'https://www.realestate.com.au/property-townhouse-vic-epping-423153994', 'https://www.realestate.com.au/property-apartment-vic-melbourne-439458768', 'https://www.realestate.com.au/property-apartment-vic-melbourne-439890844', 'https://www.realestate.com.au/property-apartment-vic-doncaster-439890812', 'https://www.realestate.com.au/property-apartment-vic-box+hill-439890704', 'https://www.realestate.com.au/property-house-vic-springvale-439785044', 'https://www.realestate.com.au/property-house-vic-meadow+heights-439785004', 'https://www.realestate.com.au/property-apartment-vic-brunswick-418155478', 'https://www.realestate.com.au/property-house-vic-bentleigh+east-439154772', 'https://www.realestate.com.au/property-unit-vic-altona-439890648', 'https://www.realestate.com.au/property-house-vic-kilsyth-435773708', 'https://www.realestate.com.au/property-townhouse-vic-forest+hill-439890596', 'https://www.realestate.com.au/property-apartment-vic-clayton+south-439784808', 'https://www.realestate.com.au/property-townhouse-vic-windsor-439890560', 'https://www.realestate.com.au/property-apartment-vic-melbourne-427136070', 'https://www.realestate.com.au/property-townhouse-vic-thornbury-439784748', 'https://www.realestate.com.au/property-house-vic-balwyn+north-439055248', 'https://www.realestate.com.au/property-house-vic-mernda-439890276', 'https://www.realestate.com.au/property-apartment-vic-prahran-416167225', 'https://www.realestate.com.au/property-house-vic-beaconsfield-439890164', 'https://www.realestate.com.au/property-house-vic-coburg-439569252', 'https://www.realestate.com.au/property-apartment-vic-north+melbourne-439890068', 'https://www.realestate.com.au/property-studio-vic-melbourne-439890064', 'https://www.realestate.com.au/property-apartment-vic-melbourne-439890052', 'https://www.realestate.com.au/property-house-vic-altona-434764015', 'https://www.realestate.com.au/property-apartment-vic-richmond-439778060', 'https://www.realestate.com.au/property-apartment-vic-elwood-439784148', 'https://www.realestate.com.au/property-house-vic-donnybrook-439889972', 'https://www.realestate.com.au/property-house-vic-rockbank-439679920', 'https://www.realestate.com.au/property-house-vic-upwey-439679916', 'https://www.realestate.com.au/property-apartment-vic-essendon+north-427276066', 'https://www.realestate.com.au/property-unit-vic-brunswick+west-439784024', 'https://www.realestate.com.au/property-townhouse-vic-lara-439889872', 'https://www.realestate.com.au/property-apartment-vic-coburg-439987052', 'https://www.realestate.com.au/property-apartment-vic-glen+waverley-439679692', 'https://www.realestate.com.au/property-apartment-vic-armadale-439568940', 'https://www.realestate.com.au/property-apartment-vic-west+melbourne-439889732', 'https://www.realestate.com.au/property-apartment-vic-melbourne-439889728', 'https://www.realestate.com.au/property-apartment-vic-southbank-439889712', 'https://www.realestate.com.au/property-apartment-vic-southbank-439889708', 'https://www.realestate.com.au/property-apartment-vic-melbourne-439889656', 'https://www.realestate.com.au/property-unit-vic-reservoir-439783848', 'https://www.realestate.com.au/property-townhouse-vic-mickleham-439889612', 'https://www.realestate.com.au/property-house-vic-carnegie-439679528', 'https://www.realestate.com.au/property-apartment-vic-south+melbourne-436012392', 'https://www.realestate.com.au/property-apartment-vic-kew-439889532', 'https://www.realestate.com.au/property-apartment-vic-southbank-439568472', 'https://www.realestate.com.au/property-apartment-vic-windsor-439568352', 'https://www.realestate.com.au/property-unit-vic-tullamarine-439889320', 'https://www.realestate.com.au/property-apartment-vic-footscray-439783464', 'https://www.realestate.com.au/property-house-vic-croydon+south-432944134', 'https://www.realestate.com.au/property-unit-vic-bentleigh-439783336', 'https://www.realestate.com.au/property-apartment-vic-melbourne-439568080', 'https://www.realestate.com.au/property-apartment-vic-caulfield+north-439889108', 'https://www.realestate.com.au/property-unit-vic-pascoe+vale-439889000', 'https://www.realestate.com.au/property-apartment-vic-melbourne-429342638', 'https://www.realestate.com.au/property-house-vic-kew-439455820', 'https://www.realestate.com.au/property-townhouse-vic-capel+sound-439782744', 'https://www.realestate.com.au/property-house-vic-box+hill-439782948', 'https://www.realestate.com.au/property-apartment-vic-hampton-439888876', 'https://www.realestate.com.au/property-house-vic-alfredton-435369859', 'https://www.realestate.com.au/property-house-vic-donnybrook-439782912', 'https://www.realestate.com.au/property-apartment-vic-kew-439888860', 'https://www.realestate.com.au/property-unit-vic-lara-439888856', 'https://www.realestate.com.au/property-townhouse-vic-glenroy-439888852', 'https://www.realestate.com.au/property-unit-vic-hoppers+crossing-439678704', 'https://www.realestate.com.au/property-house-vic-reservoir-428684686', 'https://www.realestate.com.au/property-house-vic-burwood-439986952', 'https://www.realestate.com.au/property-apartment-vic-melbourne-437123836', 'https://www.realestate.com.au/property-house-vic-mount+duneed-439678548', 'https://www.realestate.com.au/property-house-vic-gisborne-439678540', 'https://www.realestate.com.au/property-apartment-vic-camberwell-439888600', 'https://www.realestate.com.au/property-apartment-vic-windsor-435437883', 'https://www.realestate.com.au/property-house-vic-malvern+east-439888540', 'https://www.realestate.com.au/property-house-vic-templestowe-439053404', 'https://www.realestate.com.au/property-apartment-vic-box+hill-439986932', 'https://www.realestate.com.au/property-townhouse-vic-epping-439677928', 'https://www.realestate.com.au/property-house-vic-upper+ferntree+gully-436179340', 'https://www.realestate.com.au/property-house-vic-glen+waverley-438203016', 'https://www.realestate.com.au/property-house-vic-mccrae-439567072', 'https://www.realestate.com.au/property-apartment-vic-carlton-439455400', 'https://www.realestate.com.au/property-house-vic-whittington-439888308', 'https://www.realestate.com.au/property-house-vic-strathmore-439888284', 'https://www.realestate.com.au/property-house-vic-rowville-439888260', 'https://www.realestate.com.au/property-apartment-vic-travancore-439888088', 'https://www.realestate.com.au/property-apartment-vic-preston-437415856', 'https://www.realestate.com.au/property-house-vic-mount+waverley-426104182', 'https://www.realestate.com.au/property-townhouse-vic-clayton-439781732', 'https://www.realestate.com.au/property-house-vic-hoppers+crossing-439888028', 'https://www.realestate.com.au/property-apartment-vic-south+melbourne-435849252', 'https://www.realestate.com.au/property-apartment-vic-carlton-439887952', 'https://www.realestate.com.au/property-unit-vic-nunawading-439781956', 'https://www.realestate.com.au/property-unit-vic-melbourne-438409616', 'https://www.realestate.com.au/property-apartment-vic-docklands-439781936', 'https://www.realestate.com.au/property-unit-vic-dandenong-439781924', 'https://www.realestate.com.au/property-house-vic-hoppers+crossing-439887888', 'https://www.realestate.com.au/property-apartment-vic-melbourne-431438638', 'https://www.realestate.com.au/property-townhouse-vic-surrey+hills-439986904', 'https://www.realestate.com.au/property-house-vic-glen+waverley-439887736', 'https://www.realestate.com.au/property-house-vic-seabrook-439781804', 'https://www.realestate.com.au/property-apartment-vic-melbourne-439781796', 'https://www.realestate.com.au/property-house-vic-south+yarra-417853198', 'https://www.realestate.com.au/property-apartment-vic-melbourne-439986896', 'https://www.realestate.com.au/property-unit-vic-reservoir-434076959', 'https://www.realestate.com.au/property-apartment-vic-preston-439887692', 'https://www.realestate.com.au/property-apartment-vic-melbourne-439986884', 'https://www.realestate.com.au/property-house-vic-southbank-439781712', 'https://www.realestate.com.au/property-apartment-vic-brunswick+east-425419282', 'https://www.realestate.com.au/property-apartment-vic-toorak-439986880', 'https://www.realestate.com.au/property-house-vic-wantirna+south-436598336', 'https://www.realestate.com.au/property-house-vic-rosebud-439887584', 'https://www.realestate.com.au/property-apartment-vic-melbourne-439781584', 'https://www.realestate.com.au/property-house-vic-rowville-439566264', 'https://www.realestate.com.au/property-house-vic-altona+north-436200260', 'https://www.realestate.com.au/property-house-vic-doncaster-439781572', 'https://www.realestate.com.au/property-house-vic-croydon-439781512', 'https://www.realestate.com.au/property-house-vic-pascoe+vale-439781492', 'https://www.realestate.com.au/property-unit-vic-cranbourne-439887436', 'https://www.realestate.com.au/property-house-vic-harkness-439887404', 'https://www.realestate.com.au/property-apartment-vic-melbourne-439781404', 'https://www.realestate.com.au/property-apartment-vic-carlton-439454496', 'https://www.realestate.com.au/property-apartment-vic-carnegie-436427344', 'https://www.realestate.com.au/property-apartment-vic-carlton-439781380', 'https://www.realestate.com.au/property-house-vic-box+hill+south-439887376', 'https://www.realestate.com.au/property-apartment-vic-west+melbourne-439887364', 'https://www.realestate.com.au/property-townhouse-vic-preston-439887352', 'https://www.realestate.com.au/property-house-vic-bentleigh+east-439887348', 'https://www.realestate.com.au/property-apartment-vic-box+hill-439887212', 'https://www.realestate.com.au/property-townhouse-vic-essendon-439151232', 'https://www.realestate.com.au/property-house-vic-epping-439781244', 'https://www.realestate.com.au/property-apartment-vic-fitzroy-439781216', 'https://www.realestate.com.au/property-townhouse-vic-clyde-439676820', 'https://www.realestate.com.au/property-apartment-vic-melbourne-439781052', 'https://www.realestate.com.au/property-townhouse-vic-eltham-439887056', 'https://www.realestate.com.au/property-house-vic-harkness-431147202', 'https://www.realestate.com.au/property-house-vic-yallambie-439887000']\n"
     ]
    }
   ],
   "source": [
    "urls = []\n",
    "for page in pages:\n",
    "    for house in page:\n",
    "        urls.append(house['url'])\n",
    "        \n",
    "print(urls)"
   ]
  }
 ],
 "metadata": {
  "kernelspec": {
   "display_name": ".venv",
   "language": "python",
   "name": "python3"
  },
  "language_info": {
   "codemirror_mode": {
    "name": "ipython",
    "version": 3
   },
   "file_extension": ".py",
   "mimetype": "text/x-python",
   "name": "python",
   "nbconvert_exporter": "python",
   "pygments_lexer": "ipython3",
   "version": "3.12.5"
  }
 },
 "nbformat": 4,
 "nbformat_minor": 2
}
