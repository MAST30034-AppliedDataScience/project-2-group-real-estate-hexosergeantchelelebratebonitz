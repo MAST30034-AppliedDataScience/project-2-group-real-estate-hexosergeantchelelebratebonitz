{
 "cells": [
  {
   "cell_type": "markdown",
   "metadata": {},
   "source": [
    "# Scraping"
   ]
  },
  {
   "cell_type": "code",
   "execution_count": 23,
   "metadata": {},
   "outputs": [
    {
     "name": "stdout",
     "output_type": "stream",
     "text": [
      "{'name': '12/166 Toorak Road West', 'address': '12/166 Toorak Road West', 'locality': 'South Yarra', 'region': 'VIC', 'postalCode': '3141', 'startDate': '2024-08-28T12:30:00+10:00', 'endDate': '2024-08-28T12:45:00+10:00', 'url': 'https://www.realestate.com.au/property-apartment-vic-south+yarra-439958444'}\n",
      "{'name': '75 Millbrook Drive', 'address': '75 Millbrook Drive', 'locality': 'Wyndham Vale', 'region': 'VIC', 'postalCode': '3024', 'startDate': '2024-08-31T13:40:00+10:00', 'endDate': '2024-08-31T13:55:00+10:00', 'url': 'https://www.realestate.com.au/property-house-vic-wyndham+vale-439958408'}\n",
      "{'name': '212/330 Lygon St', 'address': '212/330 Lygon St', 'locality': 'Brunswick East', 'region': 'VIC', 'postalCode': '3057', 'startDate': '2024-08-27T10:00:00+10:00', 'endDate': '2024-08-27T17:00:00+10:00', 'url': 'https://www.realestate.com.au/property-apartment-vic-brunswick+east-439855408'}\n",
      "{'name': '22 Semolina Street', 'address': '22 Semolina Street', 'locality': 'Manor Lakes', 'region': 'VIC', 'postalCode': '3024', 'startDate': '2024-08-31T10:45:00+10:00', 'endDate': '2024-08-31T10:55:00+10:00', 'url': 'https://www.realestate.com.au/property-house-vic-manor+lakes-439549568'}\n",
      "{'name': '2/66 Melrose Street', 'address': '2/66 Melrose Street', 'locality': 'Mont Albert North', 'region': 'VIC', 'postalCode': '3129', 'startDate': '2024-08-28T15:30:00+10:00', 'endDate': '2024-08-28T15:45:00+10:00', 'url': 'https://www.realestate.com.au/property-townhouse-vic-mont+albert+north-439855432'}\n"
     ]
    }
   ],
   "source": [
    "import requests\n",
    "from bs4 import BeautifulSoup\n",
    "import json\n",
    "\n",
    "url_stem = 'https://www.realestate.com.au/rent/in-victoria/list-'\n",
    "page = '1'\n",
    "\n",
    "# response = requests.get(url_stem+page)\n",
    "\n",
    "# print(response.text)\n",
    "\n",
    "cookies = {\n",
    "    'KP_UIDz-ssn': '0ba9fpglbev2UIAHxkzT1MWt3G1EDEiiiKCvfPfP3bTuXFXHjKAlJoFMjPCykPtES0dZHXZz3taVEBzQNjdXaIfe0G8Vxh2fQDxfsZjpC3W5Ls7jXLnsWGOHffPCSBChRdlXvlgVzu8wNIJXnTje6rsJYtHeChFly1DJNad',\n",
    "}\n",
    "\n",
    "headers = {\n",
    "    'user-agent': 'Mozilla/5.0 (X11; Linux x86_64) AppleWebKit/537.36 (KHTML, like Gecko) Chrome/128.0.0.0 Safari/537.36',\n",
    "}\n",
    "\n",
    "response = requests.get(url_stem+page, cookies=cookies, headers=headers)\n",
    "\n",
    "soup = BeautifulSoup(response.text, 'html.parser')\n",
    "\n",
    "# Extracting the JSON data embedded in the script tag\n",
    "json_data = None\n",
    "for script in soup.find_all('script', type='application/ld+json'):\n",
    "    try:\n",
    "        json_data = json.loads(script.string)\n",
    "        break  # Assuming we only need the first JSON found\n",
    "    except json.JSONDecodeError:\n",
    "        continue\n",
    "\n",
    "# Assuming json_data is a list of dictionaries with house details\n",
    "houses = []\n",
    "if json_data:\n",
    "    for item in json_data:\n",
    "        if item.get('@type') == 'Event':  # Filtering for house listings\n",
    "            house_details = {\n",
    "                'name': item['location']['name'],\n",
    "                'address': item['location']['address']['streetAddress'],\n",
    "                'locality': item['location']['address']['addressLocality'],\n",
    "                'region': item['location']['address']['addressRegion'],\n",
    "                'postalCode': item['location']['address']['postalCode'],\n",
    "                'startDate': item['startDate'],\n",
    "                'endDate': item['endDate'],\n",
    "                'url': item['url']\n",
    "            }\n",
    "            houses.append(house_details)\n",
    "\n",
    "# Print extracted data\n",
    "for house in houses:\n",
    "    print(house)"
   ]
  }
 ],
 "metadata": {
  "kernelspec": {
   "display_name": ".venv",
   "language": "python",
   "name": "python3"
  },
  "language_info": {
   "codemirror_mode": {
    "name": "ipython",
    "version": 3
   },
   "file_extension": ".py",
   "mimetype": "text/x-python",
   "name": "python",
   "nbconvert_exporter": "python",
   "pygments_lexer": "ipython3",
   "version": "3.12.5"
  }
 },
 "nbformat": 4,
 "nbformat_minor": 2
}
