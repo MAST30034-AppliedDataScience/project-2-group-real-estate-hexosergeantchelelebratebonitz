{
 "cells": [
  {
   "cell_type": "code",
   "execution_count": 116,
   "metadata": {},
   "outputs": [],
   "source": [
    "import geopandas as gpd\n",
    "import pandas as pd\n",
    "import itertools"
   ]
  },
  {
   "cell_type": "code",
   "execution_count": 281,
   "metadata": {},
   "outputs": [
    {
     "name": "stderr",
     "output_type": "stream",
     "text": [
      "/tmp/ipykernel_32598/3812216178.py:2: DtypeWarning: Columns (0) have mixed types. Specify dtype option on import or set low_memory=False.\n",
      "  income = pd.read_csv('../../data/landing/income.csv')\n"
     ]
    }
   ],
   "source": [
    "vic_pop = pd.read_csv('../../data/curated/VicPopSA2.csv')\n",
    "income = pd.read_csv('../../data/landing/income.csv')\n",
    "sa2Areas = pd.read_csv('../../data/landing/SA2_2021_AUST.csv')\n",
    "\n",
    "all_properties = pd.read_csv('../../data/landing/Historical Property Data/AllProperties.csv')\n",
    "flat1 = pd.read_csv('../../data/landing/Historical Property Data/1_Flat.csv')\n",
    "flat2 = pd.read_csv('../../data/landing/Historical Property Data/2_Flat.csv')\n",
    "house2 = pd.read_csv('../../data/landing/Historical Property Data/2_House.csv')\n",
    "house3 = pd.read_csv('../../data/landing/Historical Property Data/3_House.csv')\n",
    "house4 = pd.read_csv('../../data/landing/Historical Property Data/4_House.csv')"
   ]
  },
  {
   "cell_type": "code",
   "execution_count": 259,
   "metadata": {},
   "outputs": [],
   "source": [
    "# Getting rid of unneccessary rows in sa2Areas\n",
    "\n",
    "sa2Areas = sa2Areas['SA2_CODE_2021,SA2_NAME_2021,STATE_NAME_2021'.split(',')]\n",
    "\n",
    "sa2Areas = sa2Areas[sa2Areas['STATE_NAME_2021'] == 'Victoria']\n",
    "\n",
    "# Convert data types\n",
    "sa2Areas['SA2_CODE_2021'] = sa2Areas['SA2_CODE_2021'].astype(int)\n",
    "sa2Areas['SA2_NAME_2021'] = sa2Areas['SA2_NAME_2021'].astype(str)\n",
    "sa2Areas['STATE_NAME_2021'] = sa2Areas['STATE_NAME_2021'].astype(str)\n",
    "\n",
    "sa2_code_range = (sa2Areas['SA2_CODE_2021'].min(), sa2Areas['SA2_CODE_2021'].max())\n"
   ]
  },
  {
   "cell_type": "code",
   "execution_count": 260,
   "metadata": {},
   "outputs": [],
   "source": [
    "# Filter out non-numeric values in the 'Code' column of the income DataFrame\n",
    "income = income[pd.to_numeric(income['Code'], errors='coerce').notnull()]\n",
    "income['Code'] = income['Code'].astype(int)\n",
    "income = income[income['Code'].between(sa2_code_range[0], sa2_code_range[1])]\n",
    "\n",
    "\n",
    "income_columns = income.columns.tolist()\n",
    "columns_to_keep = income_columns[0:3]+income_columns[-9:-1]\n",
    "income_new = income[columns_to_keep]\n",
    "income_new.rename(columns={'Label': 'Suburb'})\n",
    "# MASSIVE DATA LOSS\n",
    "\n",
    "# Regex\n",
    "income_new = income_new.replace('-',None)\n",
    "income_new = income_new.replace('\\,', '', regex=True)\n",
    "\n",
    "# Convert Data Types\n",
    "float_columns = ['Median equivalised total household income (weekly) ($)','$1-$499 per week (%).1','$500-$999 per week (%).1',\n",
    "                 '$1000-$1999 per week (%).1','$2000-$2999 per week (%).1','$3000 or more per week (%).1','Nil income (%).1','Partial income stated (%)']\n",
    "int_columns = ['Year','Code']\n",
    "\n",
    "for col in float_columns:\n",
    "    income_new[col] = income_new[col].astype(float)\n",
    "for col in int_columns:\n",
    "    income_new[col] = income_new[col].astype(int)"
   ]
  },
  {
   "cell_type": "code",
   "execution_count": 261,
   "metadata": {},
   "outputs": [
    {
     "data": {
      "text/plain": [
       "SA2 code                    int64\n",
       "SA2 name                   object\n",
       "2023 no                     int64\n",
       "2022-23 no                  int64\n",
       "2022-23 %                 float64\n",
       "Natural increase            int64\n",
       "Net internal migration      int64\n",
       "Net overseas migration      int64\n",
       "Area (km2)                float64\n",
       "persons/km2               float64\n",
       "dtype: object"
      ]
     },
     "execution_count": 261,
     "metadata": {},
     "output_type": "execute_result"
    }
   ],
   "source": [
    "vic_pop = vic_pop[vic_pop['SA2 code'].between(sa2_code_range[0], sa2_code_range[1])]\n",
    "\n",
    "\n",
    "int_columns = 'SA2 code,2023 no,2022-23 no,Natural increase,Net internal migration,Net overseas migration'.strip().split(',')\n",
    "\n",
    "\n",
    "for col in vic_pop.columns:\n",
    "    if str(col) in int_columns:\n",
    "        vic_pop[col] = vic_pop[col].astype(int)\n",
    "    elif str(col) == 'SA2 name':\n",
    "        vic_pop[col] = vic_pop[col].astype(str)\n",
    "    else:\n",
    "        vic_pop[col] = vic_pop[col].astype(float)\n",
    "\n",
    "vic_pop.dtypes"
   ]
  },
  {
   "cell_type": "code",
   "execution_count": 285,
   "metadata": {},
   "outputs": [],
   "source": [
    "property_data = [all_properties, flat1, flat2, house2, house3, house4]\n",
    "months = ['Mar', 'Jun', 'Sep', 'Dec']\n",
    "years = range(2000,2024)\n",
    "\n",
    "\n",
    "for df in property_data:\n",
    "\n",
    "    # Rename columns and drop unnecessary rows\n",
    "    df.rename(columns={'Unnamed: 0': 'Suburb'}, inplace=True)\n",
    "    months_cycle = itertools.cycle(months)\n",
    "\n",
    "    i = 1\n",
    "    year_index = 0\n",
    "    while i < len(df.columns)-1:\n",
    "        month = str(next(months_cycle))\n",
    "\n",
    "        df.rename(columns={df.columns[i]: f'{years[year_index]} {month} Count'}, inplace=True)\n",
    "        df.rename(columns={df.columns[i+1]: f'{years[year_index]} {month} Median'}, inplace=True)\n",
    "\n",
    "        year_index = year_index + 1 if month == 'Dec' else year_index\n",
    "        i += 2\n",
    "        \n",
    "    df.drop(df[df['Suburb'] == 'Group Total'].index, inplace=True)\n",
    "\n",
    "    # Regex\n",
    "    df.replace('\\,', '', regex=True,inplace=True)\n",
    "    df.replace('-',0,inplace=True)\n",
    "    df.replace({'\\$': ''}, regex=True,inplace=True)\n",
    "    df.fillna(0,inplace=True)\n",
    "\n",
    "    # Convert Data Types\n",
    "    for i in range(len(df.columns)):\n",
    "        if i == 0:\n",
    "            df[df.columns[i]] = df[df.columns[i]].astype(str)\n",
    "        else:\n",
    "            df[df.columns[i]] = df[df.columns[i]].astype(int)\n"
   ]
  },
  {
   "cell_type": "code",
   "execution_count": 288,
   "metadata": {
    "vscode": {
     "languageId": "javascript"
    }
   },
   "outputs": [],
   "source": [
    "# Save all the new data\n",
    "income_new.to_csv('../../data/curated/income_by_suburb.csv', index=False)\n",
    "vic_pop.to_csv('../../data/curated/VicPopSA2.csv', index=False)\n",
    "sa2Areas.to_csv('../../data/curated/SA2_Victoria.csv', index=False)\n",
    "all_properties.to_csv('../../data/curated/AllProperties.csv', index=False)\n",
    "flat1.to_csv('../../data/curated/1_Flat.csv', index=False)\n",
    "flat2.to_csv('../../data/curated/2_Flat.csv', index=False)\n",
    "house2.to_csv('../../data/curated/2_House.csv', index=False)\n",
    "house3.to_csv('../../data/curated/3_House.csv', index=False)\n",
    "house4.to_csv('../../data/curated/4_House.csv', index = False)"
   ]
  }
 ],
 "metadata": {
  "kernelspec": {
   "display_name": "Python 3",
   "language": "python",
   "name": "python3"
  },
  "language_info": {
   "codemirror_mode": {
    "name": "ipython",
    "version": 3
   },
   "file_extension": ".py",
   "mimetype": "text/x-python",
   "name": "python",
   "nbconvert_exporter": "python",
   "pygments_lexer": "ipython3",
   "version": "3.10.12"
  }
 },
 "nbformat": 4,
 "nbformat_minor": 2
}
