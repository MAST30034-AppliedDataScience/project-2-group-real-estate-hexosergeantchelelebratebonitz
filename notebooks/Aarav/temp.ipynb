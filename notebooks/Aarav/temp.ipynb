{
 "cells": [
  {
   "cell_type": "code",
   "execution_count": 1,
   "metadata": {},
   "outputs": [],
   "source": [
    "import re\n",
    "import json\n",
    "import asyncio\n",
    "import jmespath\n",
    "from httpx import AsyncClient, Response\n",
    "from parsel import Selector\n",
    "from typing import List, Dict"
   ]
  },
  {
   "cell_type": "code",
   "execution_count": 2,
   "metadata": {},
   "outputs": [],
   "source": [
    "client = AsyncClient(\n",
    "    # add basic browser headers to mimize blocking chancesd\n",
    "    headers={\n",
    "        \"accept-language\": \"en-US,en;q=0.9\",\n",
    "        'user-agent': 'Mozilla/5.0 (X11; Linux x86_64) AppleWebKit/537.36 (KHTML, like Gecko) Chrome/128.0.0.0 Safari/537.36',\n",
    "        \"accept\": \"text/html,application/xhtml+xml,application/xml;q=0.9,image/webp,image/apng,*/*;q=0.8\",\n",
    "        \"accept-language\": \"en-US;en;q=0.9\",\n",
    "        \"accept-encoding\": \"gzip, deflate, br\",\n",
    "        \n",
    "    },\n",
    "    cookies={\n",
    "        'KP_UIDz-ssn': '0ba9fpglbev2UIAHxkzT1MWt3G1EDEiiiKCvfPfP3bTuXFXHjKAlJoFMjPCykPtES0dZHXZz3taVEBzQNjdXaIfe0G8Vxh2fQDxfsZjpC3W5Ls7jXLnsWGOHffPCSBChRdlXvlgVzu8wNIJXnTje6rsJYtHeChFly1DJNad',\n",
    "    }\n",
    ")\n",
    "\n",
    "    \n",
    "def parse_property_data(data: Dict) -> Dict:\n",
    "    \"\"\"refine property data from JSON\"\"\"\n",
    "    if not data:\n",
    "        return\n",
    "    result = jmespath.search(\n",
    "        \"\"\"{\n",
    "        id: id,\n",
    "        propertyType: propertyType.display,\n",
    "        description: description,            \n",
    "        propertyLink: _links.canonical.href,\n",
    "        address: address,\n",
    "        propertySizes: propertySizes,\n",
    "        generalFeatures: generalFeatures,\n",
    "        propertyFeatures: propertyFeatures[].{featureName: displayLabel, value: value},\n",
    "        images: media.images[].templatedUrl,\n",
    "        videos: videos,\n",
    "        floorplans: floorplans,        \n",
    "        listingCompany: listingCompany.{name: name, id: id, companyLink: _links.canonical.href, phoneNumber: businessPhone, address: address.display.fullAddress, ratingsReviews: ratingsReviews, description: description},\n",
    "        listers: listers,\n",
    "        auction: auction\n",
    "        }\n",
    "        \"\"\",\n",
    "        data,\n",
    "    )\n",
    "    return result\n",
    "\n",
    "    \n",
    "def parse_hidden_data(response: Response) -> Dict:\n",
    "    \"\"\"parse JSON data from script tag\"\"\"\n",
    "    selector = Selector(response.text)\n",
    "    script = selector.xpath(\n",
    "        \"//script[contains(text(),'window.ArgonautExchange')]/text()\"\n",
    "    ).get()\n",
    "    # data needs to be parsed mutiple times\n",
    "    data = json.loads(re.findall(r\"window.ArgonautExchange=(\\{.+\\});\", script)[0])\n",
    "    data = json.loads(data[\"resi-property_listing-experience-web\"][\"urqlClientCache\"])\n",
    "    data = json.loads(list(data.values())[0][\"data\"])\n",
    "    return data\n",
    "\n",
    "    \n",
    "async def scrape_properties(urls: List[str]) -> List[Dict]:\n",
    "    \"\"\"scrape listing data from property pages\"\"\"\n",
    "    # add the property pages URLs to a scraping list\n",
    "    to_scrape = [client.get(url) for url in urls]\n",
    "    properties = []\n",
    "    # scrape all the property pages concurrently\n",
    "    for response in asyncio.as_completed(to_scrape):\n",
    "        response = await response\n",
    "        assert response.status_code == 200, \"request has been blocked\"\n",
    "        data = parse_hidden_data(response)[\"details\"][\"listing\"]\n",
    "        data = parse_property_data(data)\n",
    "        properties.append(data)\n",
    "    print(f\"scraped {len(properties)} property listings\")\n",
    "    return properties   "
   ]
  },
  {
   "cell_type": "code",
   "execution_count": 3,
   "metadata": {},
   "outputs": [],
   "source": [
    "async def run():\n",
    "    data = await scrape_properties(\n",
    "        urls = [\n",
    "            \"https://www.realestate.com.au/property-apartment-vic-west+melbourne-439855148\",\n",
    "        ]\n",
    "    )\n",
    "    # print the data in JSON format\n",
    "    print(json.dumps(data, indent=2))"
   ]
  },
  {
   "cell_type": "code",
   "execution_count": 4,
   "metadata": {},
   "outputs": [
    {
     "ename": "AssertionError",
     "evalue": "request has been blocked",
     "output_type": "error",
     "traceback": [
      "\u001b[0;31m---------------------------------------------------------------------------\u001b[0m",
      "\u001b[0;31mAssertionError\u001b[0m                            Traceback (most recent call last)",
      "\u001b[0;32m/var/folders/sx/fhdjzdrs3jn1m9wq314vtd2c0000gn/T/ipykernel_46206/2517501661.py\u001b[0m in \u001b[0;36m<module>\u001b[0;34m\u001b[0m\n\u001b[0;32m----> 1\u001b[0;31m \u001b[0;32mawait\u001b[0m \u001b[0mrun\u001b[0m\u001b[0;34m(\u001b[0m\u001b[0;34m)\u001b[0m\u001b[0;34m\u001b[0m\u001b[0;34m\u001b[0m\u001b[0m\n\u001b[0m",
      "\u001b[0;32m/var/folders/sx/fhdjzdrs3jn1m9wq314vtd2c0000gn/T/ipykernel_46206/336889082.py\u001b[0m in \u001b[0;36mrun\u001b[0;34m()\u001b[0m\n\u001b[1;32m      1\u001b[0m \u001b[0;32masync\u001b[0m \u001b[0;32mdef\u001b[0m \u001b[0mrun\u001b[0m\u001b[0;34m(\u001b[0m\u001b[0;34m)\u001b[0m\u001b[0;34m:\u001b[0m\u001b[0;34m\u001b[0m\u001b[0;34m\u001b[0m\u001b[0m\n\u001b[0;32m----> 2\u001b[0;31m     data = await scrape_properties(\n\u001b[0m\u001b[1;32m      3\u001b[0m         urls = [\n\u001b[1;32m      4\u001b[0m             \u001b[0;34m\"https://www.realestate.com.au/property-house-vic-tarneit-143160680\"\u001b[0m\u001b[0;34m,\u001b[0m\u001b[0;34m\u001b[0m\u001b[0;34m\u001b[0m\u001b[0m\n\u001b[1;32m      5\u001b[0m             \u001b[0;34m\"https://www.realestate.com.au/property-house-vic-bundoora-141557712\"\u001b[0m\u001b[0;34m,\u001b[0m\u001b[0;34m\u001b[0m\u001b[0;34m\u001b[0m\u001b[0m\n",
      "\u001b[0;32m/var/folders/sx/fhdjzdrs3jn1m9wq314vtd2c0000gn/T/ipykernel_46206/2429217901.py\u001b[0m in \u001b[0;36mscrape_properties\u001b[0;34m(urls)\u001b[0m\n\u001b[1;32m     63\u001b[0m     \u001b[0;32mfor\u001b[0m \u001b[0mresponse\u001b[0m \u001b[0;32min\u001b[0m \u001b[0masyncio\u001b[0m\u001b[0;34m.\u001b[0m\u001b[0mas_completed\u001b[0m\u001b[0;34m(\u001b[0m\u001b[0mto_scrape\u001b[0m\u001b[0;34m)\u001b[0m\u001b[0;34m:\u001b[0m\u001b[0;34m\u001b[0m\u001b[0;34m\u001b[0m\u001b[0m\n\u001b[1;32m     64\u001b[0m         \u001b[0mresponse\u001b[0m \u001b[0;34m=\u001b[0m \u001b[0;32mawait\u001b[0m \u001b[0mresponse\u001b[0m\u001b[0;34m\u001b[0m\u001b[0;34m\u001b[0m\u001b[0m\n\u001b[0;32m---> 65\u001b[0;31m         \u001b[0;32massert\u001b[0m \u001b[0mresponse\u001b[0m\u001b[0;34m.\u001b[0m\u001b[0mstatus_code\u001b[0m \u001b[0;34m==\u001b[0m \u001b[0;36m200\u001b[0m\u001b[0;34m,\u001b[0m \u001b[0;34m\"request has been blocked\"\u001b[0m\u001b[0;34m\u001b[0m\u001b[0;34m\u001b[0m\u001b[0m\n\u001b[0m\u001b[1;32m     66\u001b[0m         \u001b[0mdata\u001b[0m \u001b[0;34m=\u001b[0m \u001b[0mparse_hidden_data\u001b[0m\u001b[0;34m(\u001b[0m\u001b[0mresponse\u001b[0m\u001b[0;34m)\u001b[0m\u001b[0;34m[\u001b[0m\u001b[0;34m\"details\"\u001b[0m\u001b[0;34m]\u001b[0m\u001b[0;34m[\u001b[0m\u001b[0;34m\"listing\"\u001b[0m\u001b[0;34m]\u001b[0m\u001b[0;34m\u001b[0m\u001b[0;34m\u001b[0m\u001b[0m\n\u001b[1;32m     67\u001b[0m         \u001b[0mdata\u001b[0m \u001b[0;34m=\u001b[0m \u001b[0mparse_property_data\u001b[0m\u001b[0;34m(\u001b[0m\u001b[0mdata\u001b[0m\u001b[0;34m)\u001b[0m\u001b[0;34m\u001b[0m\u001b[0;34m\u001b[0m\u001b[0m\n",
      "\u001b[0;31mAssertionError\u001b[0m: request has been blocked"
     ]
    }
   ],
   "source": [
    "await run()"
   ]
  }
 ],
 "metadata": {
  "kernelspec": {
   "display_name": "Python 3",
   "language": "python",
   "name": "python3"
  },
  "language_info": {
   "codemirror_mode": {
    "name": "ipython",
    "version": 3
   },
   "file_extension": ".py",
   "mimetype": "text/x-python",
   "name": "python",
   "nbconvert_exporter": "python",
   "pygments_lexer": "ipython3",
   "version": "3.9.12"
  }
 },
 "nbformat": 4,
 "nbformat_minor": 2
}
