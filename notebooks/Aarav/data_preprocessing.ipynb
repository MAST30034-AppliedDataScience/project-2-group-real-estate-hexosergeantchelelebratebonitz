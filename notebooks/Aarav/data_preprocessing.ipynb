{
 "cells": [
  {
   "cell_type": "code",
   "execution_count": 1,
   "metadata": {},
   "outputs": [],
   "source": [
    "import pandas as pd\n",
    "import geopandas as gpd\n",
    "from shapely.geometry import Point\n",
    "from geopy.geocoders import Nominatim\n",
    "import re\n",
    "\n",
    "import numpy as np\n",
    "from scipy.stats import zscore"
   ]
  },
  {
   "cell_type": "code",
   "execution_count": 2,
   "metadata": {},
   "outputs": [],
   "source": [
    "property_df = pd.read_parquet('../../data/raw/property_details.parquet')"
   ]
  },
  {
   "cell_type": "code",
   "execution_count": 3,
   "metadata": {},
   "outputs": [],
   "source": [
    "# Drop rows where price = None (Sometimes not given on website)\n",
    "property_df = property_df[property_df['price'].notnull()]\n",
    "\n",
    "# Drop nbn_details, property_features columns (often left empty on website)\n",
    "property_df = property_df.drop(columns=['nbn_details', 'property_features'])"
   ]
  },
  {
   "cell_type": "code",
   "execution_count": 4,
   "metadata": {},
   "outputs": [
    {
     "data": {
      "text/html": [
       "<div>\n",
       "<style scoped>\n",
       "    .dataframe tbody tr th:only-of-type {\n",
       "        vertical-align: middle;\n",
       "    }\n",
       "\n",
       "    .dataframe tbody tr th {\n",
       "        vertical-align: top;\n",
       "    }\n",
       "\n",
       "    .dataframe thead th {\n",
       "        text-align: right;\n",
       "    }\n",
       "</style>\n",
       "<table border=\"1\" class=\"dataframe\">\n",
       "  <thead>\n",
       "    <tr style=\"text-align: right;\">\n",
       "      <th></th>\n",
       "      <th>title</th>\n",
       "      <th>description</th>\n",
       "      <th>street_address</th>\n",
       "      <th>suburb</th>\n",
       "      <th>postcode</th>\n",
       "      <th>price</th>\n",
       "      <th>bedrooms</th>\n",
       "      <th>bathrooms</th>\n",
       "      <th>parking</th>\n",
       "      <th>primary_property_type</th>\n",
       "      <th>structured_features</th>\n",
       "      <th>video_count</th>\n",
       "      <th>photo_count</th>\n",
       "      <th>date_listed</th>\n",
       "      <th>days_listed</th>\n",
       "      <th>floor_plans_count</th>\n",
       "      <th>virtual_tour</th>\n",
       "      <th>nearby_schools</th>\n",
       "    </tr>\n",
       "  </thead>\n",
       "  <tbody>\n",
       "  </tbody>\n",
       "</table>\n",
       "</div>"
      ],
      "text/plain": [
       "Empty DataFrame\n",
       "Columns: [title, description, street_address, suburb, postcode, price, bedrooms, bathrooms, parking, primary_property_type, structured_features, video_count, photo_count, date_listed, days_listed, floor_plans_count, virtual_tour, nearby_schools]\n",
       "Index: []"
      ]
     },
     "execution_count": 4,
     "metadata": {},
     "output_type": "execute_result"
    }
   ],
   "source": [
    "# View rows with None values\n",
    "property_df[property_df.isnull().any(axis=1)]"
   ]
  },
  {
   "cell_type": "code",
   "execution_count": 5,
   "metadata": {},
   "outputs": [],
   "source": [
    "# Function to clean up the street address by removing the unit number\n",
    "def remove_unit_number(address):\n",
    "    # Regular expression to match unit numbers (e.g., 2657/181) and remove the first number (unit number)\n",
    "    return re.sub(r'^\\d+/', '', address)\n",
    "\n",
    "# Apply the function to the 'street_address' column\n",
    "property_df['street_address'] = property_df['street_address'].apply(remove_unit_number)"
   ]
  },
  {
   "cell_type": "code",
   "execution_count": 6,
   "metadata": {},
   "outputs": [],
   "source": [
    "# Function to extract the dollar amount as a float, allowing for commas\n",
    "def extract_dollar_amount(text):\n",
    "    # Regular expression to match the dollar amount (handles commas)\n",
    "    match = re.search(r'\\$([\\d,]+(\\.\\d+)?)', text)\n",
    "    if match:\n",
    "        # Remove commas before converting to float\n",
    "        return float(match.group(1).replace(',', ''))\n",
    "    return None\n",
    "\n",
    "property_df['price'] = property_df['price'].apply(extract_dollar_amount)\n",
    "property_df.dropna(subset=['price'], inplace=True)"
   ]
  },
  {
   "cell_type": "code",
   "execution_count": null,
   "metadata": {},
   "outputs": [],
   "source": [
    "# Initialize the geolocator\n",
    "geolocator = Nominatim(user_agent=\"property_geocoder\")\n",
    "\n",
    "# Function to get longitude and latitude\n",
    "def get_coordinates(address):\n",
    "    try:\n",
    "        location = geolocator.geocode(address)\n",
    "        if location:\n",
    "            return (location.latitude, location.longitude)\n",
    "        else:\n",
    "            return (None, None)\n",
    "    except Exception as e:\n",
    "        print(f\"Error getting coordinates for {address}: {e}\")\n",
    "        return (None, None)\n",
    "\n",
    "# Apply the function to the 'street_address' column and store the results in new columns\n",
    "property_df[['latitude', 'longitude']] = property_df['street_address'].apply(lambda x: pd.Series(get_coordinates(x)))\n",
    "\n",
    "# Show the updated dataframe with coordinates\n",
    "property_df[['street_address', 'latitude', 'longitude']]\n",
    "\n",
    "property_df.dropna(inplace=True)\n",
    "len(property_df)\n",
    "\n",
    "property_df.to_parquet(\"property_details_with_longlat.parquet\", index=False)"
   ]
  },
  {
   "cell_type": "code",
   "execution_count": 19,
   "metadata": {},
   "outputs": [],
   "source": [
    "# Load the train station shapefiles\n",
    "regional_trains_gdf = gpd.read_file(\"../../data/landing/PTV/PTV_METRO_TRAIN_STATION.shp\")\n",
    "metro_trains_gdf = gpd.read_file(\"../../data/landing/PTV/PTV_REGIONAL_TRAIN_STATION.shp\")\n",
    "\n",
    "regional_bus_gdf = gpd.read_file(\"../../data/landing/PTV/PTV_REGIONAL_BUS_STOP.shp\")\n",
    "metro_bus_gdf = gpd.read_file(\"../../data/landing/PTV/PTV_METRO_BUS_STOP.shp\")\n",
    "\n",
    "trams_gdf = gpd.read_file(\"../../data/landing/PTV/PTV_METRO_TRAM_STOP.shp\")\n",
    "\n",
    "\n",
    "# Convert the property dataframe into a GeoDataFrame\n",
    "property_gdf = gpd.GeoDataFrame(\n",
    "    property_df, \n",
    "    geometry=gpd.points_from_xy(property_df.longitude, property_df.latitude), \n",
    "    crs=\"EPSG:4326\"\n",
    ")\n",
    "\n",
    "property_gdf.to_crs(epsg=3857, inplace=True)\n",
    "\n",
    "supermarkets_df = pd.read_csv(\"../../data/curated/preprocessed_supermarkets.csv\")\n",
    "\n",
    "supermarkets_gdf = gpd.GeoDataFrame(\n",
    "    supermarkets_df, \n",
    "    geometry=gpd.points_from_xy(supermarkets_df.Longitude, supermarkets_df.Latitude), \n",
    "    crs=\"EPSG:4326\"\n",
    ")\n",
    "\n",
    "supermarkets_gdf.to_crs(epsg=3857, inplace=True)\n",
    "\n",
    "\n",
    "trains_gdf = pd.concat([regional_trains_gdf, metro_trains_gdf])\n",
    "buses_gdf = pd.concat([regional_bus_gdf, metro_bus_gdf])\n",
    "\n",
    "trains_gdf.to_crs(epsg=3857, inplace=True)\n",
    "buses_gdf.to_crs(epsg=3857, inplace=True)\n",
    "trams_gdf.to_crs(epsg=3857, inplace=True)\n",
    "\n",
    "# Create a function to calculate the distance to the closest train station\n",
    "def closest_station_distance(property_point, stations_gdf):\n",
    "    # Calculate the distance between a property and all train stations\n",
    "    distances = stations_gdf.geometry.distance(property_point)\n",
    "    # Return the minimum distance\n",
    "    return distances.min()\n",
    "\n",
    "melbourne_cbd = Point(144.9628, -37.8102)  # Original coordinates in EPSG:4326\n",
    "melbourne_cbd_gdf = gpd.GeoDataFrame(geometry=[melbourne_cbd], crs=\"EPSG:4326\")\n",
    "melbourne_cbd_gdf = melbourne_cbd_gdf.to_crs(epsg=3857)\n",
    "melbourne_cbd_point = melbourne_cbd_gdf.geometry[0]\n",
    "\n",
    "# Function to calculate the distance to Melbourne CBD (in meters)\n",
    "def distance_to_melbourne_cbd(property_point):\n",
    "    return property_point.distance(melbourne_cbd_point)\n",
    "\n",
    "# Apply the distance (meters) calculation to each property \n",
    "property_gdf['distance_to_closest_train'] = property_gdf.geometry.apply(\n",
    "    lambda x: closest_station_distance(x, trains_gdf)\n",
    ")\n",
    "\n",
    "property_gdf['distance_to_closest_bus'] = property_gdf.geometry.apply(\n",
    "    lambda x: closest_station_distance(x, buses_gdf)\n",
    ")\n",
    "\n",
    "property_gdf['distance_to_closest_tram'] = property_gdf.geometry.apply(\n",
    "    lambda x: closest_station_distance(x, trams_gdf)\n",
    ")\n",
    "\n",
    "property_gdf['distance_to_melbourne_cbd'] = property_gdf.geometry.apply(\n",
    "    lambda x: distance_to_melbourne_cbd(x)\n",
    ")\n",
    "\n",
    "property_gdf['distance_to_closest_supermarket'] = property_gdf.geometry.apply(\n",
    "    lambda x: closest_station_distance(x, supermarkets_gdf)\n",
    ")\n"
   ]
  },
  {
   "cell_type": "code",
   "execution_count": 20,
   "metadata": {},
   "outputs": [],
   "source": [
    "# Filter properties within 600000 meters of Melbourne CBD (Eliminates NSW properties)\n",
    "property_gdf = property_gdf[property_gdf['distance_to_melbourne_cbd'] < 600000]"
   ]
  },
  {
   "cell_type": "code",
   "execution_count": 21,
   "metadata": {},
   "outputs": [],
   "source": [
    "def remove_z_score_outliers(data, column):\n",
    "    N = len(data)\n",
    "    z_scores = zscore(data[column])\n",
    "    \n",
    "    # Compute threshold based on the number of records\n",
    "    if N <= 100:\n",
    "        threshold = 3\n",
    "    else:\n",
    "        threshold = np.sqrt(2 * np.log(N))\n",
    "    \n",
    "    # Filter out the outliers based on Z-score threshold\n",
    "    print(f\"Removing {np.sum(np.abs(z_scores) > threshold)} outliers from {column}\")\n",
    "    data_cleaned = data[np.abs(z_scores) <= threshold]\n",
    "    return data_cleaned"
   ]
  },
  {
   "cell_type": "code",
   "execution_count": 25,
   "metadata": {},
   "outputs": [],
   "source": [
    "property_gdf['price'] = property_gdf['price'].apply(extract_dollar_amount)\n",
    "property_gdf.dropna(subset=['price'], inplace=True)"
   ]
  },
  {
   "cell_type": "code",
   "execution_count": 27,
   "metadata": {},
   "outputs": [],
   "source": [
    "property_df = pd.DataFrame(property_gdf.drop(columns=['geometry'])).reset_index(drop=True)"
   ]
  },
  {
   "cell_type": "code",
   "execution_count": 28,
   "metadata": {},
   "outputs": [],
   "source": [
    "def get_closest_school(nearby_schools):\n",
    "    return nearby_schools[0]['distance']"
   ]
  },
  {
   "cell_type": "code",
   "execution_count": 29,
   "metadata": {},
   "outputs": [],
   "source": [
    "property_df.dropna(inplace=True)\n",
    "property_df['nearby_schools'] = property_df['nearby_schools'].apply(get_closest_school)"
   ]
  },
  {
   "cell_type": "code",
   "execution_count": 32,
   "metadata": {},
   "outputs": [],
   "source": [
    "property_df.dropna(inplace=True)\n",
    "property_df.reset_index(drop=True).to_parquet(\"../../data/raw/property_details_w_distances.parquet\", index=False)"
   ]
  }
 ],
 "metadata": {
  "kernelspec": {
   "display_name": "Python 3",
   "language": "python",
   "name": "python3"
  },
  "language_info": {
   "codemirror_mode": {
    "name": "ipython",
    "version": 3
   },
   "file_extension": ".py",
   "mimetype": "text/x-python",
   "name": "python",
   "nbconvert_exporter": "python",
   "pygments_lexer": "ipython3",
   "version": "3.10.12"
  }
 },
 "nbformat": 4,
 "nbformat_minor": 2
}
